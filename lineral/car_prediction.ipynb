{
 "cells": [
  {
   "cell_type": "code",
   "execution_count": 1,
   "id": "b0db70d0",
   "metadata": {},
   "outputs": [],
   "source": [
    "import numpy as np\n",
    "import pandas as pd"
   ]
  },
  {
   "cell_type": "code",
   "execution_count": 2,
   "id": "9b88ba3c",
   "metadata": {},
   "outputs": [],
   "source": [
    "car_df = pd.read_csv('data/data.csv')"
   ]
  },
  {
   "cell_type": "code",
   "execution_count": 3,
   "id": "854c1878",
   "metadata": {},
   "outputs": [],
   "source": [
    "car_df.columns = car_df.columns.str.lower().str.replace(' ', '_')"
   ]
  },
  {
   "cell_type": "markdown",
   "id": "bfc7a846",
   "metadata": {},
   "source": [
    "Заменяем значение в столбцах: все с маленькой буквы и без пробеллов"
   ]
  },
  {
   "cell_type": "code",
   "execution_count": 4,
   "id": "8de314c3",
   "metadata": {},
   "outputs": [
    {
     "data": {
      "text/html": [
       "<div>\n",
       "<style scoped>\n",
       "    .dataframe tbody tr th:only-of-type {\n",
       "        vertical-align: middle;\n",
       "    }\n",
       "\n",
       "    .dataframe tbody tr th {\n",
       "        vertical-align: top;\n",
       "    }\n",
       "\n",
       "    .dataframe thead th {\n",
       "        text-align: right;\n",
       "    }\n",
       "</style>\n",
       "<table border=\"1\" class=\"dataframe\">\n",
       "  <thead>\n",
       "    <tr style=\"text-align: right;\">\n",
       "      <th></th>\n",
       "      <th>make</th>\n",
       "      <th>model</th>\n",
       "      <th>year</th>\n",
       "      <th>engine_fuel_type</th>\n",
       "      <th>engine_hp</th>\n",
       "      <th>engine_cylinders</th>\n",
       "      <th>transmission_type</th>\n",
       "      <th>driven_wheels</th>\n",
       "      <th>number_of_doors</th>\n",
       "      <th>market_category</th>\n",
       "      <th>vehicle_size</th>\n",
       "      <th>vehicle_style</th>\n",
       "      <th>highway_mpg</th>\n",
       "      <th>city_mpg</th>\n",
       "      <th>popularity</th>\n",
       "      <th>msrp</th>\n",
       "    </tr>\n",
       "  </thead>\n",
       "  <tbody>\n",
       "    <tr>\n",
       "      <th>0</th>\n",
       "      <td>BMW</td>\n",
       "      <td>1 Series M</td>\n",
       "      <td>2011</td>\n",
       "      <td>premium unleaded (required)</td>\n",
       "      <td>335.0</td>\n",
       "      <td>6.0</td>\n",
       "      <td>MANUAL</td>\n",
       "      <td>rear wheel drive</td>\n",
       "      <td>2.0</td>\n",
       "      <td>Factory Tuner,Luxury,High-Performance</td>\n",
       "      <td>Compact</td>\n",
       "      <td>Coupe</td>\n",
       "      <td>26</td>\n",
       "      <td>19</td>\n",
       "      <td>3916</td>\n",
       "      <td>46135</td>\n",
       "    </tr>\n",
       "    <tr>\n",
       "      <th>1</th>\n",
       "      <td>BMW</td>\n",
       "      <td>1 Series</td>\n",
       "      <td>2011</td>\n",
       "      <td>premium unleaded (required)</td>\n",
       "      <td>300.0</td>\n",
       "      <td>6.0</td>\n",
       "      <td>MANUAL</td>\n",
       "      <td>rear wheel drive</td>\n",
       "      <td>2.0</td>\n",
       "      <td>Luxury,Performance</td>\n",
       "      <td>Compact</td>\n",
       "      <td>Convertible</td>\n",
       "      <td>28</td>\n",
       "      <td>19</td>\n",
       "      <td>3916</td>\n",
       "      <td>40650</td>\n",
       "    </tr>\n",
       "    <tr>\n",
       "      <th>2</th>\n",
       "      <td>BMW</td>\n",
       "      <td>1 Series</td>\n",
       "      <td>2011</td>\n",
       "      <td>premium unleaded (required)</td>\n",
       "      <td>300.0</td>\n",
       "      <td>6.0</td>\n",
       "      <td>MANUAL</td>\n",
       "      <td>rear wheel drive</td>\n",
       "      <td>2.0</td>\n",
       "      <td>Luxury,High-Performance</td>\n",
       "      <td>Compact</td>\n",
       "      <td>Coupe</td>\n",
       "      <td>28</td>\n",
       "      <td>20</td>\n",
       "      <td>3916</td>\n",
       "      <td>36350</td>\n",
       "    </tr>\n",
       "    <tr>\n",
       "      <th>3</th>\n",
       "      <td>BMW</td>\n",
       "      <td>1 Series</td>\n",
       "      <td>2011</td>\n",
       "      <td>premium unleaded (required)</td>\n",
       "      <td>230.0</td>\n",
       "      <td>6.0</td>\n",
       "      <td>MANUAL</td>\n",
       "      <td>rear wheel drive</td>\n",
       "      <td>2.0</td>\n",
       "      <td>Luxury,Performance</td>\n",
       "      <td>Compact</td>\n",
       "      <td>Coupe</td>\n",
       "      <td>28</td>\n",
       "      <td>18</td>\n",
       "      <td>3916</td>\n",
       "      <td>29450</td>\n",
       "    </tr>\n",
       "    <tr>\n",
       "      <th>4</th>\n",
       "      <td>BMW</td>\n",
       "      <td>1 Series</td>\n",
       "      <td>2011</td>\n",
       "      <td>premium unleaded (required)</td>\n",
       "      <td>230.0</td>\n",
       "      <td>6.0</td>\n",
       "      <td>MANUAL</td>\n",
       "      <td>rear wheel drive</td>\n",
       "      <td>2.0</td>\n",
       "      <td>Luxury</td>\n",
       "      <td>Compact</td>\n",
       "      <td>Convertible</td>\n",
       "      <td>28</td>\n",
       "      <td>18</td>\n",
       "      <td>3916</td>\n",
       "      <td>34500</td>\n",
       "    </tr>\n",
       "  </tbody>\n",
       "</table>\n",
       "</div>"
      ],
      "text/plain": [
       "  make       model  year             engine_fuel_type  engine_hp  \\\n",
       "0  BMW  1 Series M  2011  premium unleaded (required)      335.0   \n",
       "1  BMW    1 Series  2011  premium unleaded (required)      300.0   \n",
       "2  BMW    1 Series  2011  premium unleaded (required)      300.0   \n",
       "3  BMW    1 Series  2011  premium unleaded (required)      230.0   \n",
       "4  BMW    1 Series  2011  premium unleaded (required)      230.0   \n",
       "\n",
       "   engine_cylinders transmission_type     driven_wheels  number_of_doors  \\\n",
       "0               6.0            MANUAL  rear wheel drive              2.0   \n",
       "1               6.0            MANUAL  rear wheel drive              2.0   \n",
       "2               6.0            MANUAL  rear wheel drive              2.0   \n",
       "3               6.0            MANUAL  rear wheel drive              2.0   \n",
       "4               6.0            MANUAL  rear wheel drive              2.0   \n",
       "\n",
       "                         market_category vehicle_size vehicle_style  \\\n",
       "0  Factory Tuner,Luxury,High-Performance      Compact         Coupe   \n",
       "1                     Luxury,Performance      Compact   Convertible   \n",
       "2                Luxury,High-Performance      Compact         Coupe   \n",
       "3                     Luxury,Performance      Compact         Coupe   \n",
       "4                                 Luxury      Compact   Convertible   \n",
       "\n",
       "   highway_mpg  city_mpg  popularity   msrp  \n",
       "0           26        19        3916  46135  \n",
       "1           28        19        3916  40650  \n",
       "2           28        20        3916  36350  \n",
       "3           28        18        3916  29450  \n",
       "4           28        18        3916  34500  "
      ]
     },
     "execution_count": 4,
     "metadata": {},
     "output_type": "execute_result"
    }
   ],
   "source": [
    "car_df.head()"
   ]
  },
  {
   "cell_type": "code",
   "execution_count": 5,
   "id": "8451dbc2",
   "metadata": {},
   "outputs": [
    {
     "data": {
      "text/plain": [
       "['make',\n",
       " 'model',\n",
       " 'engine_fuel_type',\n",
       " 'transmission_type',\n",
       " 'driven_wheels',\n",
       " 'market_category',\n",
       " 'vehicle_size',\n",
       " 'vehicle_style']"
      ]
     },
     "execution_count": 5,
     "metadata": {},
     "output_type": "execute_result"
    }
   ],
   "source": [
    "str_name = list(car_df.dtypes[car_df.dtypes == 'object'].index)\n",
    "str_name"
   ]
  },
  {
   "cell_type": "markdown",
   "id": "52453990",
   "metadata": {},
   "source": [
    "создали список всех колонок со строковыми параметрами, ниже идет замена как с колонками"
   ]
  },
  {
   "cell_type": "code",
   "execution_count": 6,
   "id": "1aeb2d27",
   "metadata": {},
   "outputs": [],
   "source": [
    "for name in str_name:\n",
    "    car_df[name] = car_df[name].str.lower().str.replace(' ', '_')"
   ]
  },
  {
   "cell_type": "code",
   "execution_count": 7,
   "id": "effc43e2",
   "metadata": {},
   "outputs": [
    {
     "data": {
      "text/html": [
       "<div>\n",
       "<style scoped>\n",
       "    .dataframe tbody tr th:only-of-type {\n",
       "        vertical-align: middle;\n",
       "    }\n",
       "\n",
       "    .dataframe tbody tr th {\n",
       "        vertical-align: top;\n",
       "    }\n",
       "\n",
       "    .dataframe thead th {\n",
       "        text-align: right;\n",
       "    }\n",
       "</style>\n",
       "<table border=\"1\" class=\"dataframe\">\n",
       "  <thead>\n",
       "    <tr style=\"text-align: right;\">\n",
       "      <th></th>\n",
       "      <th>make</th>\n",
       "      <th>model</th>\n",
       "      <th>year</th>\n",
       "      <th>engine_fuel_type</th>\n",
       "      <th>engine_hp</th>\n",
       "      <th>engine_cylinders</th>\n",
       "      <th>transmission_type</th>\n",
       "      <th>driven_wheels</th>\n",
       "      <th>number_of_doors</th>\n",
       "      <th>market_category</th>\n",
       "      <th>vehicle_size</th>\n",
       "      <th>vehicle_style</th>\n",
       "      <th>highway_mpg</th>\n",
       "      <th>city_mpg</th>\n",
       "      <th>popularity</th>\n",
       "      <th>msrp</th>\n",
       "    </tr>\n",
       "  </thead>\n",
       "  <tbody>\n",
       "    <tr>\n",
       "      <th>11909</th>\n",
       "      <td>acura</td>\n",
       "      <td>zdx</td>\n",
       "      <td>2012</td>\n",
       "      <td>premium_unleaded_(required)</td>\n",
       "      <td>300.0</td>\n",
       "      <td>6.0</td>\n",
       "      <td>automatic</td>\n",
       "      <td>all_wheel_drive</td>\n",
       "      <td>4.0</td>\n",
       "      <td>crossover,hatchback,luxury</td>\n",
       "      <td>midsize</td>\n",
       "      <td>4dr_hatchback</td>\n",
       "      <td>23</td>\n",
       "      <td>16</td>\n",
       "      <td>204</td>\n",
       "      <td>46120</td>\n",
       "    </tr>\n",
       "    <tr>\n",
       "      <th>11910</th>\n",
       "      <td>acura</td>\n",
       "      <td>zdx</td>\n",
       "      <td>2012</td>\n",
       "      <td>premium_unleaded_(required)</td>\n",
       "      <td>300.0</td>\n",
       "      <td>6.0</td>\n",
       "      <td>automatic</td>\n",
       "      <td>all_wheel_drive</td>\n",
       "      <td>4.0</td>\n",
       "      <td>crossover,hatchback,luxury</td>\n",
       "      <td>midsize</td>\n",
       "      <td>4dr_hatchback</td>\n",
       "      <td>23</td>\n",
       "      <td>16</td>\n",
       "      <td>204</td>\n",
       "      <td>56670</td>\n",
       "    </tr>\n",
       "    <tr>\n",
       "      <th>11911</th>\n",
       "      <td>acura</td>\n",
       "      <td>zdx</td>\n",
       "      <td>2012</td>\n",
       "      <td>premium_unleaded_(required)</td>\n",
       "      <td>300.0</td>\n",
       "      <td>6.0</td>\n",
       "      <td>automatic</td>\n",
       "      <td>all_wheel_drive</td>\n",
       "      <td>4.0</td>\n",
       "      <td>crossover,hatchback,luxury</td>\n",
       "      <td>midsize</td>\n",
       "      <td>4dr_hatchback</td>\n",
       "      <td>23</td>\n",
       "      <td>16</td>\n",
       "      <td>204</td>\n",
       "      <td>50620</td>\n",
       "    </tr>\n",
       "    <tr>\n",
       "      <th>11912</th>\n",
       "      <td>acura</td>\n",
       "      <td>zdx</td>\n",
       "      <td>2013</td>\n",
       "      <td>premium_unleaded_(recommended)</td>\n",
       "      <td>300.0</td>\n",
       "      <td>6.0</td>\n",
       "      <td>automatic</td>\n",
       "      <td>all_wheel_drive</td>\n",
       "      <td>4.0</td>\n",
       "      <td>crossover,hatchback,luxury</td>\n",
       "      <td>midsize</td>\n",
       "      <td>4dr_hatchback</td>\n",
       "      <td>23</td>\n",
       "      <td>16</td>\n",
       "      <td>204</td>\n",
       "      <td>50920</td>\n",
       "    </tr>\n",
       "    <tr>\n",
       "      <th>11913</th>\n",
       "      <td>lincoln</td>\n",
       "      <td>zephyr</td>\n",
       "      <td>2006</td>\n",
       "      <td>regular_unleaded</td>\n",
       "      <td>221.0</td>\n",
       "      <td>6.0</td>\n",
       "      <td>automatic</td>\n",
       "      <td>front_wheel_drive</td>\n",
       "      <td>4.0</td>\n",
       "      <td>luxury</td>\n",
       "      <td>midsize</td>\n",
       "      <td>sedan</td>\n",
       "      <td>26</td>\n",
       "      <td>17</td>\n",
       "      <td>61</td>\n",
       "      <td>28995</td>\n",
       "    </tr>\n",
       "  </tbody>\n",
       "</table>\n",
       "</div>"
      ],
      "text/plain": [
       "          make   model  year                engine_fuel_type  engine_hp  \\\n",
       "11909    acura     zdx  2012     premium_unleaded_(required)      300.0   \n",
       "11910    acura     zdx  2012     premium_unleaded_(required)      300.0   \n",
       "11911    acura     zdx  2012     premium_unleaded_(required)      300.0   \n",
       "11912    acura     zdx  2013  premium_unleaded_(recommended)      300.0   \n",
       "11913  lincoln  zephyr  2006                regular_unleaded      221.0   \n",
       "\n",
       "       engine_cylinders transmission_type      driven_wheels  number_of_doors  \\\n",
       "11909               6.0         automatic    all_wheel_drive              4.0   \n",
       "11910               6.0         automatic    all_wheel_drive              4.0   \n",
       "11911               6.0         automatic    all_wheel_drive              4.0   \n",
       "11912               6.0         automatic    all_wheel_drive              4.0   \n",
       "11913               6.0         automatic  front_wheel_drive              4.0   \n",
       "\n",
       "                  market_category vehicle_size  vehicle_style  highway_mpg  \\\n",
       "11909  crossover,hatchback,luxury      midsize  4dr_hatchback           23   \n",
       "11910  crossover,hatchback,luxury      midsize  4dr_hatchback           23   \n",
       "11911  crossover,hatchback,luxury      midsize  4dr_hatchback           23   \n",
       "11912  crossover,hatchback,luxury      midsize  4dr_hatchback           23   \n",
       "11913                      luxury      midsize          sedan           26   \n",
       "\n",
       "       city_mpg  popularity   msrp  \n",
       "11909        16         204  46120  \n",
       "11910        16         204  56670  \n",
       "11911        16         204  50620  \n",
       "11912        16         204  50920  \n",
       "11913        17          61  28995  "
      ]
     },
     "execution_count": 7,
     "metadata": {},
     "output_type": "execute_result"
    }
   ],
   "source": [
    "car_df.tail()"
   ]
  },
  {
   "cell_type": "code",
   "execution_count": 8,
   "id": "1b0c348c",
   "metadata": {},
   "outputs": [
    {
     "name": "stdout",
     "output_type": "stream",
     "text": [
      "make\n",
      "['bmw' 'audi' 'fiat' 'mercedes-benz' 'chrysler']\n",
      "48\n",
      "\n",
      "\n",
      "model\n",
      "['1_series_m' '1_series' '100' '124_spider' '190-class']\n",
      "914\n",
      "\n",
      "\n",
      "year\n",
      "[2011 2012 2013 1992 1993]\n",
      "28\n",
      "\n",
      "\n",
      "engine_fuel_type\n",
      "['premium_unleaded_(required)' 'regular_unleaded'\n",
      " 'premium_unleaded_(recommended)' 'flex-fuel_(unleaded/e85)' 'diesel']\n",
      "10\n",
      "\n",
      "\n",
      "engine_hp\n",
      "[335. 300. 230. 320. 172.]\n",
      "356\n",
      "\n",
      "\n",
      "engine_cylinders\n",
      "[ 6.  4.  5.  8. 12.]\n",
      "9\n",
      "\n",
      "\n",
      "transmission_type\n",
      "['manual' 'automatic' 'automated_manual' 'direct_drive' 'unknown']\n",
      "5\n",
      "\n",
      "\n",
      "driven_wheels\n",
      "['rear_wheel_drive' 'front_wheel_drive' 'all_wheel_drive'\n",
      " 'four_wheel_drive']\n",
      "4\n",
      "\n",
      "\n",
      "number_of_doors\n",
      "[ 2.  4.  3. nan]\n",
      "3\n",
      "\n",
      "\n",
      "market_category\n",
      "['factory_tuner,luxury,high-performance' 'luxury,performance'\n",
      " 'luxury,high-performance' 'luxury' 'performance']\n",
      "71\n",
      "\n",
      "\n",
      "vehicle_size\n",
      "['compact' 'midsize' 'large']\n",
      "3\n",
      "\n",
      "\n",
      "vehicle_style\n",
      "['coupe' 'convertible' 'sedan' 'wagon' '4dr_hatchback']\n",
      "16\n",
      "\n",
      "\n",
      "highway_mpg\n",
      "[26 28 27 25 24]\n",
      "59\n",
      "\n",
      "\n",
      "city_mpg\n",
      "[19 20 18 17 16]\n",
      "69\n",
      "\n",
      "\n",
      "popularity\n",
      "[3916 3105  819  617 1013]\n",
      "48\n",
      "\n",
      "\n",
      "msrp\n",
      "[46135 40650 36350 29450 34500]\n",
      "6049\n",
      "\n",
      "\n"
     ]
    }
   ],
   "source": [
    "names = list(car_df.dtypes.index)\n",
    "for name in names:\n",
    "    print(name)\n",
    "    print(car_df[name].unique()[:5])\n",
    "    print(car_df[name].nunique())\n",
    "    print('\\n')"
   ]
  },
  {
   "cell_type": "markdown",
   "id": "91614f0d",
   "metadata": {},
   "source": [
    "краткий срез по таблице: кол-во уникальных значений, какие в принципе бывают значения"
   ]
  },
  {
   "cell_type": "code",
   "execution_count": 9,
   "id": "2991f9d0",
   "metadata": {
    "scrolled": true
   },
   "outputs": [],
   "source": [
    "import matplotlib as mlp\n",
    "import seaborn as sns"
   ]
  },
  {
   "cell_type": "code",
   "execution_count": 10,
   "id": "d527824a",
   "metadata": {},
   "outputs": [
    {
     "data": {
      "text/plain": [
       "<AxesSubplot:xlabel='msrp', ylabel='Count'>"
      ]
     },
     "execution_count": 10,
     "metadata": {},
     "output_type": "execute_result"
    },
    {
     "data": {
      "image/png": "[encoded data removed]",
      "text/plain": [
       "<Figure size 432x288 with 1 Axes>"
      ]
     },
     "metadata": {
      "needs_background": "light"
     },
     "output_type": "display_data"
    }
   ],
   "source": [
    "sns.histplot(car_df.msrp, bins=50 )"
   ]
  },
  {
   "cell_type": "code",
   "execution_count": 11,
   "id": "51dd63e8",
   "metadata": {},
   "outputs": [],
   "source": [
    "price_log = np.log1p(car_df.msrp)"
   ]
  },
  {
   "cell_type": "markdown",
   "id": "3e8ee409",
   "metadata": {},
   "source": [
    "два графика для одного и того же параметра, применяем функцию лог + 1 чтобы избавиться от длинного хвоста"
   ]
  },
  {
   "cell_type": "code",
   "execution_count": 12,
   "id": "0c5f2822",
   "metadata": {},
   "outputs": [
    {
     "data": {
      "text/plain": [
       "<AxesSubplot:xlabel='msrp', ylabel='Count'>"
      ]
     },
     "execution_count": 12,
     "metadata": {},
     "output_type": "execute_result"
    },
    {
     "data": {
      "image/png": "[encoded data removed]",
      "text/plain": [
       "<Figure size 432x288 with 1 Axes>"
      ]
     },
     "metadata": {
      "needs_background": "light"
     },
     "output_type": "display_data"
    }
   ],
   "source": [
    "sns.histplot(price_log, bins=50)"
   ]
  },
  {
   "cell_type": "code",
   "execution_count": 13,
   "id": "0deabf2a",
   "metadata": {},
   "outputs": [
    {
     "data": {
      "text/plain": [
       "make                    0\n",
       "model                   0\n",
       "year                    0\n",
       "engine_fuel_type        3\n",
       "engine_hp              69\n",
       "engine_cylinders       30\n",
       "transmission_type       0\n",
       "driven_wheels           0\n",
       "number_of_doors         6\n",
       "market_category      3742\n",
       "vehicle_size            0\n",
       "vehicle_style           0\n",
       "highway_mpg             0\n",
       "city_mpg                0\n",
       "popularity              0\n",
       "msrp                    0\n",
       "dtype: int64"
      ]
     },
     "execution_count": 13,
     "metadata": {},
     "output_type": "execute_result"
    }
   ],
   "source": [
    "car_df.isnull().sum()"
   ]
  },
  {
   "cell_type": "markdown",
   "id": "0c650748",
   "metadata": {},
   "source": [
    "проверка значений таблицы на заполненность, обязательно учесть nan при использовании данных, конец первого урока"
   ]
  },
  {
   "cell_type": "markdown",
   "id": "a48cd9b0",
   "metadata": {},
   "source": [
    "## Урок 2"
   ]
  },
  {
   "cell_type": "code",
   "execution_count": 14,
   "id": "852098ce",
   "metadata": {},
   "outputs": [
    {
     "data": {
      "text/plain": [
       "(2382, 2382, 7150)"
      ]
     },
     "execution_count": 14,
     "metadata": {},
     "output_type": "execute_result"
    }
   ],
   "source": [
    "n = len(car_df)\n",
    "n_test = int(n * 0.2)\n",
    "n_val = int(n * 0.2)\n",
    "n_train = n - n_test - n_val\n",
    "n_test, n_val, n_train"
   ]
  },
  {
   "cell_type": "markdown",
   "id": "d4c59180",
   "metadata": {},
   "source": [
    "разбиваем датасет на три части для обучения модели, теста и валидации данных"
   ]
  },
  {
   "cell_type": "code",
   "execution_count": 15,
   "id": "10189174",
   "metadata": {},
   "outputs": [
    {
     "data": {
      "text/plain": [
       "array([2735, 6720, 5878, ..., 6637, 2575, 7336])"
      ]
     },
     "execution_count": 15,
     "metadata": {},
     "output_type": "execute_result"
    }
   ],
   "source": [
    "idx = np.arange(n)\n",
    "np.random.seed(2)\n",
    "np.random.shuffle(idx)\n",
    "idx"
   ]
  },
  {
   "cell_type": "markdown",
   "id": "b4b713d0",
   "metadata": {},
   "source": [
    "перемешиваем индексы исходного датасета, ставим рандом сид для сохранения рандомного распределения дальше"
   ]
  },
  {
   "cell_type": "code",
   "execution_count": 16,
   "id": "f6abbba3",
   "metadata": {
    "scrolled": true
   },
   "outputs": [],
   "source": [
    "car_train = car_df.iloc[idx[:n_train]]\n",
    "car_test = car_df.iloc[idx[n_train:n_train+n_test]]\n",
    "car_val = car_df.iloc[idx[n_train+n_test:]]"
   ]
  },
  {
   "cell_type": "markdown",
   "id": "9df89ee2",
   "metadata": {},
   "source": [
    "расчленяем датасет на три копии"
   ]
  },
  {
   "cell_type": "code",
   "execution_count": 17,
   "id": "37ec936c",
   "metadata": {},
   "outputs": [
    {
     "data": {
      "text/plain": [
       "(2382, 2382, 7150)"
      ]
     },
     "execution_count": 17,
     "metadata": {},
     "output_type": "execute_result"
    }
   ],
   "source": [
    "len(car_test), len(car_val), len(car_train)"
   ]
  },
  {
   "cell_type": "code",
   "execution_count": 18,
   "id": "869c4100",
   "metadata": {},
   "outputs": [],
   "source": [
    "car_train = car_train.reset_index(drop=True)\n",
    "car_test = car_test.reset_index(drop=True)\n",
    "car_val = car_val.reset_index(drop=True)"
   ]
  },
  {
   "cell_type": "markdown",
   "id": "0b4b7746",
   "metadata": {},
   "source": [
    "меняем индексы на индексы по порядку без сохранения исходных (для сохранения исходных убираем дроп)"
   ]
  },
  {
   "cell_type": "code",
   "execution_count": 19,
   "id": "cd13de9e",
   "metadata": {},
   "outputs": [],
   "source": [
    "y_train = np.log1p(car_train.msrp.values)\n",
    "y_test = np.log1p(car_test.msrp.values)\n",
    "y_val = np.log1p(car_val.msrp.values)"
   ]
  },
  {
   "cell_type": "code",
   "execution_count": 20,
   "id": "387829f9",
   "metadata": {},
   "outputs": [],
   "source": [
    "del car_train['msrp']\n",
    "del car_test['msrp']\n",
    "del car_val['msrp']"
   ]
  },
  {
   "cell_type": "markdown",
   "id": "33ff5eca",
   "metadata": {},
   "source": [
    "создаем листы значений с ценой, на которых будем тренироваться, удаляем столбец со значениями из общего списка, чтобы не натренирвоать нашу модель с исходными данными.))))"
   ]
  },
  {
   "cell_type": "markdown",
   "id": "918a18d8",
   "metadata": {},
   "source": [
    "## Урок 3"
   ]
  },
  {
   "cell_type": "code",
   "execution_count": 21,
   "id": "0cc4723c",
   "metadata": {},
   "outputs": [],
   "source": [
    "w = [0.01, 0.04, 0.002]\n",
    "w0 = 7.17"
   ]
  },
  {
   "cell_type": "code",
   "execution_count": 22,
   "id": "a897655b",
   "metadata": {},
   "outputs": [],
   "source": [
    "xi = [453, 11, 86]"
   ]
  },
  {
   "cell_type": "code",
   "execution_count": 23,
   "id": "e85bc6e7",
   "metadata": {},
   "outputs": [],
   "source": [
    "def dot(xi, w):\n",
    "    n = len(xi)\n",
    "    res = 0.0\n",
    "    for i in range(n):\n",
    "        res = res + xi[i] * w[i]\n",
    "    return res\n",
    "    "
   ]
  },
  {
   "cell_type": "code",
   "execution_count": 24,
   "id": "68b7e7ad",
   "metadata": {},
   "outputs": [],
   "source": [
    "w = [w0] + w"
   ]
  },
  {
   "cell_type": "code",
   "execution_count": 25,
   "id": "9c29130d",
   "metadata": {},
   "outputs": [],
   "source": [
    "def lineral_regr(xi, w):\n",
    "    xi = [1] + xi\n",
    "    return dot(xi, w)"
   ]
  },
  {
   "cell_type": "code",
   "execution_count": 26,
   "id": "cf3afcb4",
   "metadata": {},
   "outputs": [
    {
     "data": {
      "text/plain": [
       "12.312"
      ]
     },
     "execution_count": 26,
     "metadata": {},
     "output_type": "execute_result"
    }
   ],
   "source": [
    "lineral_regr(xi, w)"
   ]
  },
  {
   "cell_type": "markdown",
   "id": "5e6287ab",
   "metadata": {},
   "source": [
    "Линейная регрессия сводится к перемножению матрицы данных на вектор весов, НО мы не знаем заранее вектор весов.))))"
   ]
  },
  {
   "cell_type": "code",
   "execution_count": 27,
   "id": "92fb72ca",
   "metadata": {},
   "outputs": [],
   "source": [
    "X = [\n",
    "    [148, 24, 3058],\n",
    "    [452, 11, 86],\n",
    "    [149, 47, 201],\n",
    "    [14, 25, 300],\n",
    "    [43, 12, 82],\n",
    "    [144, 46, 254],\n",
    "    [147, 54, 2458],\n",
    "    [459, 21, 99],\n",
    "    [142, 47, 204],\n",
    "    ]\n",
    "X = np.array(X)\n",
    "y = [124, 258, 1200, 58, 456, 123, 57, 896, 1356]"
   ]
  },
  {
   "cell_type": "markdown",
   "id": "49e628ef",
   "metadata": {},
   "source": [
    "Поэтому мы берем данный и путем математических вычислений изменяем формулу, чтобы с имеющимися реальными ценами и реальными признаками найти максимально близко подходящие веса. Чтобы найти вес нужно из матрицы данных сделать квадратную матрицу (домножив ее на себя транспонированную), затем инвертируем получившуюся матрицу. После этого домножаем на транспонированную исходную матрицу и вектор с результатами."
   ]
  },
  {
   "cell_type": "markdown",
   "id": "5c87406f",
   "metadata": {},
   "source": [
    "Выглядит страшно, но это нужно, чтобы из формулы X*w = y перенести Х в правую часть выражения и найти неизвестные веса.)"
   ]
  },
  {
   "cell_type": "code",
   "execution_count": 28,
   "id": "6c5020e0",
   "metadata": {},
   "outputs": [],
   "source": [
    "def train_lineral(X, y):\n",
    "    ones = np.ones(X.shape[0])\n",
    "    X = np.column_stack([ones, X])\n",
    "    XTX = X.T.dot(X)\n",
    "    X_i = np.linalg.inv(XTX)\n",
    "    w_full = X_i.dot(X.T).dot(y)\n",
    "    return w_full[0], w_full[1:]"
   ]
  },
  {
   "cell_type": "code",
   "execution_count": 29,
   "id": "2b96b648",
   "metadata": {},
   "outputs": [
    {
     "data": {
      "text/plain": [
       "(138.25892429730723, array([ 0.67147003, 12.79253939, -0.22663086]))"
      ]
     },
     "execution_count": 29,
     "metadata": {},
     "output_type": "execute_result"
    }
   ],
   "source": [
    "train_lineral(X, y)"
   ]
  },
  {
   "cell_type": "markdown",
   "id": "73c07bab",
   "metadata": {},
   "source": [
    "## Урок 4"
   ]
  },
  {
   "cell_type": "code",
   "execution_count": 30,
   "id": "96aa4e0c",
   "metadata": {},
   "outputs": [
    {
     "data": {
      "text/plain": [
       "Index(['make', 'model', 'year', 'engine_fuel_type', 'engine_hp',\n",
       "       'engine_cylinders', 'transmission_type', 'driven_wheels',\n",
       "       'number_of_doors', 'market_category', 'vehicle_size', 'vehicle_style',\n",
       "       'highway_mpg', 'city_mpg', 'popularity'],\n",
       "      dtype='object')"
      ]
     },
     "execution_count": 30,
     "metadata": {},
     "output_type": "execute_result"
    }
   ],
   "source": [
    "car_train.columns"
   ]
  },
  {
   "cell_type": "code",
   "execution_count": 31,
   "id": "71aad0d8",
   "metadata": {},
   "outputs": [],
   "source": [
    "base_feat = ['engine_hp',\n",
    "       'engine_cylinders', 'highway_mpg', 'city_mpg', 'popularity']"
   ]
  },
  {
   "cell_type": "code",
   "execution_count": 32,
   "id": "32659207",
   "metadata": {},
   "outputs": [],
   "source": [
    "def prepare_data(df):\n",
    "    df_prep = df[base_feat]\n",
    "    df_prep = df_prep.fillna(0)\n",
    "    data = df_prep.values\n",
    "    return data"
   ]
  },
  {
   "cell_type": "code",
   "execution_count": 33,
   "id": "540bb35c",
   "metadata": {},
   "outputs": [
    {
     "data": {
      "text/plain": [
       "array([ 9.57574708,  9.887663  ,  9.89323518, ..., 10.45380308,\n",
       "       12.62248099, 10.54061978])"
      ]
     },
     "execution_count": 33,
     "metadata": {},
     "output_type": "execute_result"
    }
   ],
   "source": [
    "X_train = prepare_data(car_train)\n",
    "y_train"
   ]
  },
  {
   "cell_type": "code",
   "execution_count": 34,
   "id": "d8923a9b",
   "metadata": {},
   "outputs": [],
   "source": [
    "w0, w = train_lineral(X_train, y_train)"
   ]
  },
  {
   "cell_type": "code",
   "execution_count": 35,
   "id": "5ba99ce6",
   "metadata": {},
   "outputs": [],
   "source": [
    "y_pred = w0 + X_train.dot(w)"
   ]
  },
  {
   "cell_type": "code",
   "execution_count": 36,
   "id": "b9514dcd",
   "metadata": {},
   "outputs": [
    {
     "data": {
      "text/plain": [
       "<AxesSubplot:ylabel='Count'>"
      ]
     },
     "execution_count": 36,
     "metadata": {},
     "output_type": "execute_result"
    },
    {
     "data": {
      "image/png": "[encoded data removed]",
      "text/plain": [
       "<Figure size 432x288 with 1 Axes>"
      ]
     },
     "metadata": {
      "needs_background": "light"
     },
     "output_type": "display_data"
    }
   ],
   "source": [
    "sns.histplot(y_pred, bins=50, alpha=0.5, color='yellow')\n",
    "sns.histplot(y_train, bins=50, alpha=0.5, color='blue')"
   ]
  },
  {
   "cell_type": "markdown",
   "id": "0dfacf89",
   "metadata": {},
   "source": [
    "Взяли из наших данных 5 числовых параметров, сделали из них матрицу и функцией линейной регрессии получили какие-то результаты. Как видно по графику, наши желтые результаты не совсем дотягивают до имеющихся."
   ]
  },
  {
   "cell_type": "code",
   "execution_count": 37,
   "id": "55415ded",
   "metadata": {},
   "outputs": [],
   "source": [
    "def rmse(y_train, y_pred):\n",
    "    error = y_train - y_pred\n",
    "    se = error ** 2\n",
    "    mse = se.mean()\n",
    "    return np.sqrt(mse)"
   ]
  },
  {
   "cell_type": "markdown",
   "id": "a9cf5416",
   "metadata": {},
   "source": [
    "Root mean square error - средняя квадратичная ошибка - среднее значение разницы между нашим предсказанием и реальным значением (возводим в квалрат, чтобы избавиться рот минуса, берем корень, чтобы вернуться к реальным значениям)"
   ]
  },
  {
   "cell_type": "code",
   "execution_count": 38,
   "id": "81dfad80",
   "metadata": {},
   "outputs": [
    {
     "data": {
      "text/plain": [
       "0.7554192603920132"
      ]
     },
     "execution_count": 38,
     "metadata": {},
     "output_type": "execute_result"
    }
   ],
   "source": [
    "rmse(y_train, y_pred)"
   ]
  },
  {
   "cell_type": "markdown",
   "id": "f23fb661",
   "metadata": {},
   "source": [
    "стандартная квадратичная ошибка для тренировочных данных"
   ]
  },
  {
   "cell_type": "code",
   "execution_count": 39,
   "id": "4a8dbf38",
   "metadata": {},
   "outputs": [
    {
     "data": {
      "text/plain": [
       "0.7359130757318697"
      ]
     },
     "execution_count": 39,
     "metadata": {},
     "output_type": "execute_result"
    }
   ],
   "source": [
    "X_val = prepare_data(car_val)\n",
    "y_pred = w0 + X_val.dot(w)\n",
    "y_pred\n",
    "rmse(y_val, y_pred)"
   ]
  },
  {
   "cell_type": "markdown",
   "id": "91ea1c44",
   "metadata": {},
   "source": [
    "Стандартная квадратичная ошибка для данных валидации. Расхождения небольшие, НО сами ошибки огромные, поэтому данные с исходными несовпадают. Добавим в функцию подготовки даты еще один признак - возраст машины"
   ]
  },
  {
   "cell_type": "code",
   "execution_count": 40,
   "id": "57d1eeec",
   "metadata": {},
   "outputs": [],
   "source": [
    "def prepare_data(df):\n",
    "    df = df.copy()\n",
    "    df['age'] = 2017 - df.year\n",
    "    features = base_feat + ['age']\n",
    "    df_prep = df[features]\n",
    "    df_prep = df_prep.fillna(0)\n",
    "    data = df_prep.values\n",
    "    return data"
   ]
  },
  {
   "cell_type": "code",
   "execution_count": 41,
   "id": "af03b281",
   "metadata": {},
   "outputs": [
    {
     "data": {
      "text/plain": [
       "0.5149229218585313"
      ]
     },
     "execution_count": 41,
     "metadata": {},
     "output_type": "execute_result"
    }
   ],
   "source": [
    "X_train = prepare_data(car_train)\n",
    "w0, w = train_lineral(X_train, y_train)\n",
    "\n",
    "X_val = prepare_data(car_val)\n",
    "y_pred = w0 + X_val.dot(w)\n",
    "\n",
    "rmse(y_val, y_pred)"
   ]
  },
  {
   "cell_type": "markdown",
   "id": "ceb0f51c",
   "metadata": {},
   "source": [
    "Заметь, мы не используем функцию train_lineral на данных валидации, мы подставляем полученные веса к данным валидации, чтобы все по-честному.))) С новым полем получили лучшее значение среднеквадратичной ошибки, теперь график выглядит более повторяющим форму исходных данных"
   ]
  },
  {
   "cell_type": "code",
   "execution_count": 42,
   "id": "e586ae3c",
   "metadata": {},
   "outputs": [
    {
     "data": {
      "text/plain": [
       "<AxesSubplot:ylabel='Count'>"
      ]
     },
     "execution_count": 42,
     "metadata": {},
     "output_type": "execute_result"
    },
    {
     "data": {
      "image/png": "[encoded data removed]",
      "text/plain": [
       "<Figure size 432x288 with 1 Axes>"
      ]
     },
     "metadata": {
      "needs_background": "light"
     },
     "output_type": "display_data"
    }
   ],
   "source": [
    "sns.histplot(y_val, bins=50, alpha=0.5, color='blue')\n",
    "sns.histplot(y_pred, bins=50, alpha=0.5, color='yellow')"
   ]
  },
  {
   "cell_type": "code",
   "execution_count": 43,
   "id": "67688b72",
   "metadata": {},
   "outputs": [],
   "source": [
    "def prepare_data(df):\n",
    "    df = df.copy()\n",
    "    df['age'] = 2017 - df.year\n",
    "    features = base_feat + ['age']\n",
    "    for v in [2, 3, 4]:\n",
    "        df['car_doors_%s' %v] = (df.number_of_doors == v).astype('int')\n",
    "        features.append('car_doors_%s' %v)\n",
    "    df_prep = df[features]\n",
    "    df_prep = df_prep.fillna(0)\n",
    "    data = df_prep.values\n",
    "    return data"
   ]
  },
  {
   "cell_type": "markdown",
   "id": "cf24ecd3",
   "metadata": {},
   "source": [
    "Пример добавления категориальных данных в данные для тренировки модели. Можно добавить хоть все, но лучше выбирать знаковые, чтобы не перегрузить себя + от добавления всех подряд признаков среднеквадратичная ошибка отклонения может и не стать разительно меньше."
   ]
  },
  {
   "cell_type": "code",
   "execution_count": 44,
   "id": "4ee9063b",
   "metadata": {},
   "outputs": [
    {
     "data": {
      "text/plain": [
       "0.513381917283316"
      ]
     },
     "execution_count": 44,
     "metadata": {},
     "output_type": "execute_result"
    }
   ],
   "source": [
    "X_train = prepare_data(car_train)\n",
    "w0, w = train_lineral(X_train, y_train)\n",
    "\n",
    "X_val = prepare_data(car_val)\n",
    "y_pred = w0 + X_val.dot(w)\n",
    "\n",
    "rmse(y_val, y_pred)"
   ]
  },
  {
   "cell_type": "markdown",
   "id": "560c738a",
   "metadata": {},
   "source": [
    "## Урок 4. Регуляризация"
   ]
  },
  {
   "cell_type": "markdown",
   "id": "a79a2fa3",
   "metadata": {},
   "source": [
    "Когда значение матрицы в столбцах идентичное, у нас сбиваются все настройки весов (и даже может вылезти неприятная ошибка взятия инвертированной матрицы.\n",
    "Такая матрица выглядит так a = [1, 3 , 24,\n",
    "                                2, 3, 24,\n",
    "                                47, 3, 24,]\n",
    "Чтобы избежать ошибок, мы по главной диагонали добавляем какое-то число r (от маленького, до юольшого, в зависимости от параметра нашей среднеквадратичной ошибки)."
   ]
  },
  {
   "cell_type": "code",
   "execution_count": 51,
   "id": "2af76738",
   "metadata": {},
   "outputs": [],
   "source": [
    "def train_lineral_with_reg(X, y, r=0.1):\n",
    "    ones = np.ones(X.shape[0])\n",
    "    X = np.column_stack([ones, X])\n",
    "    XTX = X.T.dot(X)\n",
    "    XTX = XTX + r * np.eye(XTX.shape[0])\n",
    "    X_i = np.linalg.inv(XTX)\n",
    "    w_full = X_i.dot(X.T).dot(y)\n",
    "    return w_full[0], w_full[1:]"
   ]
  },
  {
   "cell_type": "code",
   "execution_count": 54,
   "id": "2e139ef0",
   "metadata": {},
   "outputs": [
    {
     "data": {
      "text/plain": [
       "0.5133819100524345"
      ]
     },
     "execution_count": 54,
     "metadata": {},
     "output_type": "execute_result"
    }
   ],
   "source": [
    "X_train = prepare_data(car_train)\n",
    "w0, w = train_lineral_with_reg(X_train, y_train, 0.0001)\n",
    "\n",
    "X_val = prepare_data(car_val)\n",
    "y_pred = w0 + X_val.dot(w)\n",
    "\n",
    "rmse(y_val, y_pred)"
   ]
  },
  {
   "cell_type": "code",
   "execution_count": 57,
   "id": "a2e8b932",
   "metadata": {},
   "outputs": [],
   "source": [
    "car_full_train = pd.concat([car_train, car_test])"
   ]
  },
  {
   "cell_type": "code",
   "execution_count": 59,
   "id": "26691cb3",
   "metadata": {},
   "outputs": [],
   "source": [
    "car_full_train = car_full_train.reset_index(drop=True)"
   ]
  },
  {
   "cell_type": "code",
   "execution_count": 60,
   "id": "5a1cb1b1",
   "metadata": {},
   "outputs": [],
   "source": [
    "y_full_train = np.concatenate([y_train, y_test])"
   ]
  },
  {
   "cell_type": "code",
   "execution_count": 64,
   "id": "a1748d01",
   "metadata": {},
   "outputs": [
    {
     "data": {
      "text/plain": [
       "0.5178360109328967"
      ]
     },
     "execution_count": 64,
     "metadata": {},
     "output_type": "execute_result"
    }
   ],
   "source": [
    "X_full_train = prepare_data(car_full_train)\n",
    "wo, w = train_lineral_with_reg(X_full_train, y_full_train, r=0.001)\n",
    "\n",
    "X_test = prepare_data(car_test)\n",
    "y_pred = w0 + X_test.dot(w)\n",
    "\n",
    "rmse(y_test, y_pred)"
   ]
  },
  {
   "cell_type": "code",
   "execution_count": 80,
   "id": "0e3bda2e",
   "metadata": {},
   "outputs": [],
   "source": [
    "car_one = car_test.iloc[22].to_dict()\n",
    "car_small = pd.DataFrame([car_one])"
   ]
  },
  {
   "cell_type": "markdown",
   "id": "642f804f",
   "metadata": {},
   "source": []
  },
  {
   "cell_type": "code",
   "execution_count": 81,
   "id": "515db39a",
   "metadata": {},
   "outputs": [
    {
     "data": {
      "text/plain": [
       "10.017091564605975"
      ]
     },
     "execution_count": 81,
     "metadata": {},
     "output_type": "execute_result"
    }
   ],
   "source": [
    "X_small = prepare_data(car_small)\n",
    "y_pred = w0 + X_small.dot(w)\n",
    "y_pred[0]"
   ]
  },
  {
   "cell_type": "code",
   "execution_count": 82,
   "id": "66c7b308",
   "metadata": {},
   "outputs": [
    {
     "data": {
      "text/plain": [
       "22405.16816857968"
      ]
     },
     "execution_count": 82,
     "metadata": {},
     "output_type": "execute_result"
    }
   ],
   "source": [
    "np.expm1(y_pred[0])"
   ]
  },
  {
   "cell_type": "code",
   "execution_count": 83,
   "id": "8df4c6d9",
   "metadata": {},
   "outputs": [
    {
     "data": {
      "text/plain": [
       "24044.999999999993"
      ]
     },
     "execution_count": 83,
     "metadata": {},
     "output_type": "execute_result"
    }
   ],
   "source": [
    "np.expm1(y_test[22])"
   ]
  }
 ],
 "metadata": {
  "kernelspec": {
   "display_name": "Python 3 (ipykernel)",
   "language": "python",
   "name": "python3"
  },
  "language_info": {
   "codemirror_mode": {
    "name": "ipython",
    "version": 3
   },
   "file_extension": ".py",
   "mimetype": "text/x-python",
   "name": "python",
   "nbconvert_exporter": "python",
   "pygments_lexer": "ipython3",
   "version": "3.9.7"
  },
  "vscode": {
   "interpreter": {
    "hash": "1077a7622c94b69f50cf5c06492105ce5624ef58a3c8148028a6737528b07b85"
   }
  }
 },
 "nbformat": 4,
 "nbformat_minor": 5
}
