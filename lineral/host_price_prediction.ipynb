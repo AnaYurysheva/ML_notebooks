{
 "cells": [
  {
   "cell_type": "code",
   "execution_count": 172,
   "id": "5625457e",
   "metadata": {},
   "outputs": [],
   "source": [
    "import numpy as np\n",
    "import pandas as pd\n",
    "import seaborn as sns"
   ]
  },
  {
   "cell_type": "code",
   "execution_count": 31,
   "id": "3ce64ec3",
   "metadata": {},
   "outputs": [
    {
     "data": {
      "text/html": [
       "<div>\n",
       "<style scoped>\n",
       "    .dataframe tbody tr th:only-of-type {\n",
       "        vertical-align: middle;\n",
       "    }\n",
       "\n",
       "    .dataframe tbody tr th {\n",
       "        vertical-align: top;\n",
       "    }\n",
       "\n",
       "    .dataframe thead th {\n",
       "        text-align: right;\n",
       "    }\n",
       "</style>\n",
       "<table border=\"1\" class=\"dataframe\">\n",
       "  <thead>\n",
       "    <tr style=\"text-align: right;\">\n",
       "      <th></th>\n",
       "      <th>id</th>\n",
       "      <th>name</th>\n",
       "      <th>host_id</th>\n",
       "      <th>host_name</th>\n",
       "      <th>neighbourhood_group</th>\n",
       "      <th>neighbourhood</th>\n",
       "      <th>latitude</th>\n",
       "      <th>longitude</th>\n",
       "      <th>room_type</th>\n",
       "      <th>price</th>\n",
       "      <th>minimum_nights</th>\n",
       "      <th>number_of_reviews</th>\n",
       "      <th>last_review</th>\n",
       "      <th>reviews_per_month</th>\n",
       "      <th>calculated_host_listings_count</th>\n",
       "      <th>availability_365</th>\n",
       "    </tr>\n",
       "  </thead>\n",
       "  <tbody>\n",
       "    <tr>\n",
       "      <th>0</th>\n",
       "      <td>2539</td>\n",
       "      <td>clean &amp; quiet apt home by the park</td>\n",
       "      <td>2787</td>\n",
       "      <td>john</td>\n",
       "      <td>brooklyn</td>\n",
       "      <td>kensington</td>\n",
       "      <td>40.64749</td>\n",
       "      <td>-73.97237</td>\n",
       "      <td>private room</td>\n",
       "      <td>149</td>\n",
       "      <td>1</td>\n",
       "      <td>9</td>\n",
       "      <td>2018-10-19</td>\n",
       "      <td>0.21</td>\n",
       "      <td>6</td>\n",
       "      <td>365</td>\n",
       "    </tr>\n",
       "    <tr>\n",
       "      <th>1</th>\n",
       "      <td>2595</td>\n",
       "      <td>skylit midtown castle</td>\n",
       "      <td>2845</td>\n",
       "      <td>jennifer</td>\n",
       "      <td>manhattan</td>\n",
       "      <td>midtown</td>\n",
       "      <td>40.75362</td>\n",
       "      <td>-73.98377</td>\n",
       "      <td>entire home/apt</td>\n",
       "      <td>225</td>\n",
       "      <td>1</td>\n",
       "      <td>45</td>\n",
       "      <td>2019-05-21</td>\n",
       "      <td>0.38</td>\n",
       "      <td>2</td>\n",
       "      <td>355</td>\n",
       "    </tr>\n",
       "    <tr>\n",
       "      <th>2</th>\n",
       "      <td>3647</td>\n",
       "      <td>the village of harlem....new york !</td>\n",
       "      <td>4632</td>\n",
       "      <td>elisabeth</td>\n",
       "      <td>manhattan</td>\n",
       "      <td>harlem</td>\n",
       "      <td>40.80902</td>\n",
       "      <td>-73.94190</td>\n",
       "      <td>private room</td>\n",
       "      <td>150</td>\n",
       "      <td>3</td>\n",
       "      <td>0</td>\n",
       "      <td>NaN</td>\n",
       "      <td>NaN</td>\n",
       "      <td>1</td>\n",
       "      <td>365</td>\n",
       "    </tr>\n",
       "    <tr>\n",
       "      <th>3</th>\n",
       "      <td>3831</td>\n",
       "      <td>cozy entire floor of brownstone</td>\n",
       "      <td>4869</td>\n",
       "      <td>lisaroxanne</td>\n",
       "      <td>brooklyn</td>\n",
       "      <td>clinton hill</td>\n",
       "      <td>40.68514</td>\n",
       "      <td>-73.95976</td>\n",
       "      <td>entire home/apt</td>\n",
       "      <td>89</td>\n",
       "      <td>1</td>\n",
       "      <td>270</td>\n",
       "      <td>2019-07-05</td>\n",
       "      <td>4.64</td>\n",
       "      <td>1</td>\n",
       "      <td>194</td>\n",
       "    </tr>\n",
       "    <tr>\n",
       "      <th>4</th>\n",
       "      <td>5022</td>\n",
       "      <td>entire apt: spacious studio/loft by central park</td>\n",
       "      <td>7192</td>\n",
       "      <td>laura</td>\n",
       "      <td>manhattan</td>\n",
       "      <td>east harlem</td>\n",
       "      <td>40.79851</td>\n",
       "      <td>-73.94399</td>\n",
       "      <td>entire home/apt</td>\n",
       "      <td>80</td>\n",
       "      <td>10</td>\n",
       "      <td>9</td>\n",
       "      <td>2018-11-19</td>\n",
       "      <td>0.10</td>\n",
       "      <td>1</td>\n",
       "      <td>0</td>\n",
       "    </tr>\n",
       "  </tbody>\n",
       "</table>\n",
       "</div>"
      ],
      "text/plain": [
       "     id                                              name  host_id  \\\n",
       "0  2539                clean & quiet apt home by the park     2787   \n",
       "1  2595                             skylit midtown castle     2845   \n",
       "2  3647               the village of harlem....new york !     4632   \n",
       "3  3831                   cozy entire floor of brownstone     4869   \n",
       "4  5022  entire apt: spacious studio/loft by central park     7192   \n",
       "\n",
       "     host_name neighbourhood_group neighbourhood  latitude  longitude  \\\n",
       "0         john            brooklyn    kensington  40.64749  -73.97237   \n",
       "1     jennifer           manhattan       midtown  40.75362  -73.98377   \n",
       "2    elisabeth           manhattan        harlem  40.80902  -73.94190   \n",
       "3  lisaroxanne            brooklyn  clinton hill  40.68514  -73.95976   \n",
       "4        laura           manhattan   east harlem  40.79851  -73.94399   \n",
       "\n",
       "         room_type  price  minimum_nights  number_of_reviews last_review  \\\n",
       "0     private room    149               1                  9  2018-10-19   \n",
       "1  entire home/apt    225               1                 45  2019-05-21   \n",
       "2     private room    150               3                  0         NaN   \n",
       "3  entire home/apt     89               1                270  2019-07-05   \n",
       "4  entire home/apt     80              10                  9  2018-11-19   \n",
       "\n",
       "   reviews_per_month  calculated_host_listings_count  availability_365  \n",
       "0               0.21                               6               365  \n",
       "1               0.38                               2               355  \n",
       "2                NaN                               1               365  \n",
       "3               4.64                               1               194  \n",
       "4               0.10                               1                 0  "
      ]
     },
     "execution_count": 31,
     "metadata": {},
     "output_type": "execute_result"
    }
   ],
   "source": [
    "host_df = pd.read_csv('data/AB_NYC_2019.csv')\n",
    "host_df.columns = host_df.columns.str.lower().str.replace(' ', '_')\n",
    "for c in host_df.columns[host_df.dtypes == 'object']:\n",
    "    host_df[c] = host_df[c].str.lower().replace(' ', '_')\n",
    "host_df.head()"
   ]
  },
  {
   "cell_type": "code",
   "execution_count": 40,
   "id": "77453bba",
   "metadata": {},
   "outputs": [
    {
     "data": {
      "text/plain": [
       "<AxesSubplot:ylabel='Count'>"
      ]
     },
     "execution_count": 40,
     "metadata": {},
     "output_type": "execute_result"
    },
    {
     "data": {
      "image/png": "[encoded data removed]",
      "text/plain": [
       "<Figure size 432x288 with 1 Axes>"
      ]
     },
     "metadata": {
      "needs_background": "light"
     },
     "output_type": "display_data"
    }
   ],
   "source": [
    "y_all = list(host_df['price'].iloc)\n",
    "sns.histplot(y_all, bins=50)"
   ]
  },
  {
   "cell_type": "code",
   "execution_count": 44,
   "id": "1b84be3b",
   "metadata": {},
   "outputs": [
    {
     "name": "stdout",
     "output_type": "stream",
     "text": [
      "id\n",
      "[2539 2595 3647 3831 5022]\n",
      "48895\n",
      "\n",
      "\n",
      "name\n",
      "['clean & quiet apt home by the park' 'skylit midtown castle'\n",
      " 'the village of harlem....new york !' 'cozy entire floor of brownstone'\n",
      " 'entire apt: spacious studio/loft by central park']\n",
      "47487\n",
      "\n",
      "\n",
      "host_id\n",
      "[2787 2845 4632 4869 7192]\n",
      "37457\n",
      "\n",
      "\n",
      "host_name\n",
      "['john' 'jennifer' 'elisabeth' 'lisaroxanne' 'laura']\n",
      "11428\n",
      "\n",
      "\n",
      "neighbourhood_group\n",
      "['brooklyn' 'manhattan' 'queens' 'staten island' 'bronx']\n",
      "5\n",
      "\n",
      "\n",
      "neighbourhood\n",
      "['kensington' 'midtown' 'harlem' 'clinton hill' 'east harlem']\n",
      "221\n",
      "\n",
      "\n",
      "latitude\n",
      "[40.64749 40.75362 40.80902 40.68514 40.79851]\n",
      "19048\n",
      "\n",
      "\n",
      "longitude\n",
      "[-73.97237 -73.98377 -73.9419  -73.95976 -73.94399]\n",
      "14718\n",
      "\n",
      "\n",
      "room_type\n",
      "['private room' 'entire home/apt' 'shared room']\n",
      "3\n",
      "\n",
      "\n",
      "price\n",
      "[149 225 150  89  80]\n",
      "674\n",
      "\n",
      "\n",
      "minimum_nights\n",
      "[ 1  3 10 45  2]\n",
      "109\n",
      "\n",
      "\n",
      "number_of_reviews\n",
      "[  9  45   0 270  74]\n",
      "394\n",
      "\n",
      "\n",
      "last_review\n",
      "['2018-10-19' '2019-05-21' nan '2019-07-05' '2018-11-19']\n",
      "1764\n",
      "\n",
      "\n",
      "reviews_per_month\n",
      "[0.21 0.38  nan 4.64 0.1 ]\n",
      "937\n",
      "\n",
      "\n",
      "calculated_host_listings_count\n",
      "[6 2 1 4 3]\n",
      "47\n",
      "\n",
      "\n",
      "availability_365\n",
      "[365 355 194   0 129]\n",
      "366\n",
      "\n",
      "\n",
      "10000\n",
      "0\n"
     ]
    }
   ],
   "source": [
    "names = list(host_df.dtypes.index)\n",
    "for name in names:\n",
    "    print(name)\n",
    "    print(host_df[name].unique()[:5])\n",
    "    print(host_df[name].nunique())\n",
    "    print('\\n')\n",
    "print(host_df['price'].max())\n",
    "print(host_df['price'].min())"
   ]
  },
  {
   "cell_type": "code",
   "execution_count": 43,
   "id": "547521c5",
   "metadata": {},
   "outputs": [
    {
     "data": {
      "text/plain": [
       "<AxesSubplot:ylabel='Count'>"
      ]
     },
     "execution_count": 43,
     "metadata": {},
     "output_type": "execute_result"
    },
    {
     "data": {
      "image/png": "[encoded data removed]",
      "text/plain": [
       "<Figure size 432x288 with 1 Axes>"
      ]
     },
     "metadata": {
      "needs_background": "light"
     },
     "output_type": "display_data"
    }
   ],
   "source": [
    "y_all = np.log1p(y_all)\n",
    "sns.histplot(y_all, bins=50)"
   ]
  },
  {
   "cell_type": "code",
   "execution_count": 47,
   "id": "d2397cb1",
   "metadata": {},
   "outputs": [
    {
     "data": {
      "text/plain": [
       "id                                    0\n",
       "name                                 16\n",
       "host_id                               0\n",
       "host_name                            21\n",
       "neighbourhood_group                   0\n",
       "neighbourhood                         0\n",
       "latitude                              0\n",
       "longitude                             0\n",
       "room_type                             0\n",
       "price                                 0\n",
       "minimum_nights                        0\n",
       "number_of_reviews                     0\n",
       "last_review                       10052\n",
       "reviews_per_month                 10052\n",
       "calculated_host_listings_count        0\n",
       "availability_365                      0\n",
       "dtype: int64"
      ]
     },
     "execution_count": 47,
     "metadata": {},
     "output_type": "execute_result"
    }
   ],
   "source": [
    "host_df.isna().sum()"
   ]
  },
  {
   "cell_type": "code",
   "execution_count": 113,
   "id": "7293a6fb",
   "metadata": {},
   "outputs": [],
   "source": [
    "col_names = ['latitude', 'longitude', 'minimum_nights', 'number_of_reviews', 'reviews_per_month', 'calculated_host_listings_count', 'availability_365']"
   ]
  },
  {
   "cell_type": "code",
   "execution_count": 49,
   "id": "e9375185",
   "metadata": {},
   "outputs": [
    {
     "data": {
      "text/plain": [
       "7.029962163820431"
      ]
     },
     "execution_count": 49,
     "metadata": {},
     "output_type": "execute_result"
    }
   ],
   "source": [
    "host_df['minimum_nights'].mean()"
   ]
  },
  {
   "cell_type": "code",
   "execution_count": 156,
   "id": "6cc61836",
   "metadata": {},
   "outputs": [],
   "source": [
    "n = len(host_df)\n",
    "n_test = int(n * 0.2)\n",
    "n_train = n - n_test*2\n",
    "idx = np.arange(n)\n",
    "np.random.seed(9)\n",
    "np.random.shuffle(idx)"
   ]
  },
  {
   "cell_type": "code",
   "execution_count": 157,
   "id": "2b4efdd1",
   "metadata": {},
   "outputs": [],
   "source": [
    "host_train = host_df.iloc[idx[:n_train]]\n",
    "host_test = host_df.iloc[idx[n_train:n_train+n_test]]\n",
    "host_val = host_df.iloc[idx[n_train+n_test:]]"
   ]
  },
  {
   "cell_type": "code",
   "execution_count": 127,
   "id": "25db395b",
   "metadata": {},
   "outputs": [
    {
     "data": {
      "text/plain": [
       "48895"
      ]
     },
     "execution_count": 127,
     "metadata": {},
     "output_type": "execute_result"
    }
   ],
   "source": [
    "len(host_train)+ len(host_test) + len(host_val)"
   ]
  },
  {
   "cell_type": "code",
   "execution_count": 158,
   "id": "26f1abc2",
   "metadata": {},
   "outputs": [],
   "source": [
    "host_train = host_train.reset_index(drop=True)\n",
    "host_val = host_val.reset_index(drop=True)\n",
    "host_test = host_test.reset_index(drop=True)"
   ]
  },
  {
   "cell_type": "code",
   "execution_count": 159,
   "id": "b005116d",
   "metadata": {},
   "outputs": [],
   "source": [
    "y_train = np.log1p(host_train['price'].values)\n",
    "y_val = np.log1p(host_val['price'].values)\n",
    "y_test = np.log1p(host_test['price'].values)"
   ]
  },
  {
   "cell_type": "code",
   "execution_count": 160,
   "id": "40dc7996",
   "metadata": {},
   "outputs": [],
   "source": [
    "del host_train['price']\n",
    "del host_test['price']\n",
    "del host_val['price']"
   ]
  },
  {
   "cell_type": "code",
   "execution_count": 150,
   "id": "94278876",
   "metadata": {},
   "outputs": [],
   "source": [
    "# def prepare_data_with_0(X):\n",
    "#     data_prep = X[col_names]\n",
    "#     data_prep = data_prep.fillna(0)\n",
    "#     data = data_prep.values\n",
    "#     return data\n",
    "\n",
    "def lineral_regr(X, y):\n",
    "    ones = np.ones(X.shape[0])\n",
    "    X = np.column_stack([ones, X])\n",
    "    XTX = X.T.dot(X)\n",
    "    X_i = np.linalg.inv(XTX)\n",
    "    w_full = X_i.dot(X.T).dot(y)\n",
    "    return w_full[0], w_full[1:]\n",
    "\n",
    "def rmse(y_train, y_pred):\n",
    "    error = y_train - y_pred\n",
    "    se = error ** 2\n",
    "    mse = se.mean()\n",
    "    return np.sqrt(mse)"
   ]
  },
  {
   "cell_type": "code",
   "execution_count": 170,
   "id": "f278bc64",
   "metadata": {},
   "outputs": [
    {
     "data": {
      "text/plain": [
       "0.645036676683792"
      ]
     },
     "execution_count": 170,
     "metadata": {},
     "output_type": "execute_result"
    }
   ],
   "source": [
    "X_train = prepare_data_with_0(host_train)\n",
    "w0, w = lineral_regr(X_train, y_train)\n",
    "\n",
    "X_val = prepare_data_with_0(host_val)\n",
    "y_pred = w0 + X_val.dot(w)\n",
    "rmse(y_pred, y_val)"
   ]
  },
  {
   "cell_type": "code",
   "execution_count": 169,
   "id": "a70d99fa",
   "metadata": {},
   "outputs": [],
   "source": [
    "def prepare_data_with_mean(X):\n",
    "    data_prep = X[col_names]\n",
    "    data_prep = data_prep.fillna(X[col_names].mean())\n",
    "    data = data_prep.values\n",
    "    return data"
   ]
  },
  {
   "cell_type": "code",
   "execution_count": 168,
   "id": "612e617d",
   "metadata": {},
   "outputs": [
    {
     "data": {
      "text/plain": [
       "0.6979715021213179"
      ]
     },
     "execution_count": 168,
     "metadata": {},
     "output_type": "execute_result"
    }
   ],
   "source": [
    "X_train_mean = prepare_data_with_mean(host_train)\n",
    "w0, w = lineral_regr(X_train, y_train)\n",
    "\n",
    "X_val_mean = prepare_data_with_mean(host_val)\n",
    "y_pred = w0 + X_val.dot(w)\n",
    "rmse(y_pred, y_val)"
   ]
  },
  {
   "cell_type": "code",
   "execution_count": 167,
   "id": "9a7077af",
   "metadata": {},
   "outputs": [],
   "source": [
    "def lineral_regr_with_reg(X, y, r = 0.001):\n",
    "    ones = np.ones(X.shape[0])\n",
    "    X = np.column_stack([ones, X])\n",
    "    XTX = X.T.dot(X)\n",
    "    XTX = XTX + r * np.eye(XTX.shape[0])\n",
    "    X_i = np.linalg.inv(XTX)\n",
    "    w_full = X_i.dot(X.T).dot(y)\n",
    "    return w_full[0], w_full[1:]\n",
    "\n",
    "def rmse(y_train, y_pred):\n",
    "    error = y_train - y_pred\n",
    "    se = error ** 2\n",
    "    mse = se.mean()\n",
    "    return np.sqrt(mse)"
   ]
  },
  {
   "cell_type": "code",
   "execution_count": 166,
   "id": "915e735a",
   "metadata": {},
   "outputs": [
    {
     "data": {
      "text/plain": [
       "0.6979712224644151"
      ]
     },
     "execution_count": 166,
     "metadata": {},
     "output_type": "execute_result"
    }
   ],
   "source": [
    "X_train_mean = prepare_data_with_mean(host_train)\n",
    "w0, w = lineral_regr_with_reg(X_train, y_train, r=0.001)\n",
    "\n",
    "X_val_mean = prepare_data_with_mean(host_val)\n",
    "y_pred = w0 + X_val.dot(w)\n",
    "rmse(y_pred, y_val)"
   ]
  },
  {
   "cell_type": "code",
   "execution_count": 177,
   "id": "271b402c",
   "metadata": {},
   "outputs": [
    {
     "data": {
      "text/plain": [
       "0.6438029052709737"
      ]
     },
     "execution_count": 177,
     "metadata": {},
     "output_type": "execute_result"
    }
   ],
   "source": [
    "host_full_train = pd.concat([host_train, host_test])\n",
    "X_full_train = prepare_data_with_0(host_full_train)\n",
    "y_full_train = np.concatenate([y_train, y_test])\n",
    "\n",
    "w0, w = lineral_regr_with_reg(X_full_train, y_full_train, r=0.001)\n",
    "\n",
    "X_test = prepare_data_with_0(host_test)\n",
    "y_pred = w0 + X_test.dot(w)\n",
    "rmse(y_pred, y_test)"
   ]
  },
  {
   "cell_type": "code",
   "execution_count": 178,
   "id": "2419f0b7",
   "metadata": {},
   "outputs": [
    {
     "data": {
      "text/plain": [
       "<AxesSubplot:ylabel='Count'>"
      ]
     },
     "execution_count": 178,
     "metadata": {},
     "output_type": "execute_result"
    },
    {
     "data": {
      "image/png": "[encoded data removed]",
      "text/plain": [
       "<Figure size 432x288 with 1 Axes>"
      ]
     },
     "metadata": {
      "needs_background": "light"
     },
     "output_type": "display_data"
    }
   ],
   "source": [
    "sns.histplot(y_pred, color='red', bins=50)\n",
    "sns.histplot(y_test, bins=50)"
   ]
  }
 ],
 "metadata": {
  "kernelspec": {
   "display_name": "Python 3.9.7 ('base')",
   "language": "python",
   "name": "python3"
  },
  "language_info": {
   "codemirror_mode": {
    "name": "ipython",
    "version": 3
   },
   "file_extension": ".py",
   "mimetype": "text/x-python",
   "name": "python",
   "nbconvert_exporter": "python",
   "pygments_lexer": "ipython3",
   "version": "3.9.7"
  },
  "vscode": {
   "interpreter": {
    "hash": "1077a7622c94b69f50cf5c06492105ce5624ef58a3c8148028a6737528b07b85"
   }
  }
 },
 "nbformat": 4,
 "nbformat_minor": 5
}
