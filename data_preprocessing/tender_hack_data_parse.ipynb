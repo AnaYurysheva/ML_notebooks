{
 "cells": [
  {
   "cell_type": "code",
   "execution_count": 276,
   "id": "3d671968",
   "metadata": {},
   "outputs": [],
   "source": [
    "import pandas as pd\n",
    "import numpy as np\n",
    "import matplotlib.pyplot as plt\n",
    "\n",
    "pd.options.display.float_format ='{:,.3f}'.format"
   ]
  },
  {
   "cell_type": "markdown",
   "id": "273d4468",
   "metadata": {},
   "source": [
    "Два неочищенных набора данных, соединение таблиц лежит в последнем столбце первой таблице в форомате json - парсила данные из json, добавляя в итоговую таблицу и соединяла со второй, чтобы в итоговой таблице можно было посмотреть данные по поставщикам/товарам/заказчикам, корреляции спроса на товар и даты заключения контракта."
   ]
  },
  {
   "cell_type": "markdown",
   "id": "bef8d9cf",
   "metadata": {},
   "source": [
    "## Import data"
   ]
  },
  {
   "cell_type": "code",
   "execution_count": 277,
   "id": "b1192b1b",
   "metadata": {},
   "outputs": [],
   "source": [
    "# pd.read_excel('data/Контракты_Иркутск.xlsx')\n",
    "# pd.read_excel('data/СТЕ_Иркутск.xlsx')\n",
    "df_cte = pd.read_csv(\"data/cte.csv\")\n",
    "df = pd.read_csv(\"data/data.csv\")\n",
    "\n",
    "del df_cte['Unnamed: 0']\n",
    "del df['Unnamed: 0']\n",
    "df_cte.columns = ['id_cte', 'name_cte', 'category', 'code', 'characteristics']\n",
    "df.columns = ['number', 'date_kpp', 'date_concl', 'price', 'inn_ord','kpp_ord', 'name_ord', 'inn_cust', \n",
    "             'kpp_cust', 'name_cust', 'cte']"
   ]
  },
  {
   "cell_type": "code",
   "execution_count": 1,
   "id": "0abc37ff",
   "metadata": {},
   "outputs": [
    {
     "name": "stdout",
     "output_type": "stream",
     "text": [
      "Requirement already satisfied: pandoc in c:\\python38\\lib\\site-packages (2.2)\n",
      "Requirement already satisfied: plumbum in c:\\python38\\lib\\site-packages (from pandoc) (1.7.2)\n",
      "Requirement already satisfied: ply in c:\\python38\\lib\\site-packages (from pandoc) (3.11)\n",
      "Requirement already satisfied: pywin32 in c:\\python38\\lib\\site-packages (from plumbum->pandoc) (303)\n"
     ]
    },
    {
     "name": "stderr",
     "output_type": "stream",
     "text": [
      "\n",
      "[notice] A new release of pip available: 22.2.1 -> 22.2.2\n",
      "[notice] To update, run: python.exe -m pip install --upgrade pip\n"
     ]
    }
   ],
   "source": [
    "! pip install pandoc"
   ]
  },
  {
   "cell_type": "code",
   "execution_count": 278,
   "id": "540930ff",
   "metadata": {},
   "outputs": [
    {
     "data": {
      "text/html": [
       "<div>\n",
       "<style scoped>\n",
       "    .dataframe tbody tr th:only-of-type {\n",
       "        vertical-align: middle;\n",
       "    }\n",
       "\n",
       "    .dataframe tbody tr th {\n",
       "        vertical-align: top;\n",
       "    }\n",
       "\n",
       "    .dataframe thead th {\n",
       "        text-align: right;\n",
       "    }\n",
       "</style>\n",
       "<table border=\"1\" class=\"dataframe\">\n",
       "  <thead>\n",
       "    <tr style=\"text-align: right;\">\n",
       "      <th></th>\n",
       "      <th>number</th>\n",
       "      <th>date_kpp</th>\n",
       "      <th>date_concl</th>\n",
       "      <th>price</th>\n",
       "      <th>inn_ord</th>\n",
       "      <th>kpp_ord</th>\n",
       "      <th>name_ord</th>\n",
       "      <th>inn_cust</th>\n",
       "      <th>kpp_cust</th>\n",
       "      <th>name_cust</th>\n",
       "      <th>cte</th>\n",
       "    </tr>\n",
       "  </thead>\n",
       "  <tbody>\n",
       "    <tr>\n",
       "      <th>0</th>\n",
       "      <td>10/2019-СГЗ</td>\n",
       "      <td>2019-06-13 17:07:08.753</td>\n",
       "      <td>2019-06-18 00:00:00.000</td>\n",
       "      <td>21,970.000</td>\n",
       "      <td>7709043455</td>\n",
       "      <td>770901001</td>\n",
       "      <td>ГОСУДАРСТВЕННОЕ БЮДЖЕТНОЕ УЧРЕЖДЕНИЕ ДОПОЛНИТЕ...</td>\n",
       "      <td>5009062762</td>\n",
       "      <td>500,901,001.000</td>\n",
       "      <td>ООО \"ОФИСМАГ\"</td>\n",
       "      <td>[{\"Id\":1226040,\"Quantity\":100.00000,\"Amount\":2...</td>\n",
       "    </tr>\n",
       "    <tr>\n",
       "      <th>1</th>\n",
       "      <td>642-МЗ-44/19</td>\n",
       "      <td>2019-06-13 10:46:31.197</td>\n",
       "      <td>2019-06-18 00:00:00.000</td>\n",
       "      <td>85,312.000</td>\n",
       "      <td>7719047184</td>\n",
       "      <td>771901001</td>\n",
       "      <td>ГОСУДАРСТВЕННОЕ БЮДЖЕТНОЕ УЧРЕЖДЕНИЕ ЗДРАВООХР...</td>\n",
       "      <td>7725696613</td>\n",
       "      <td>772,501,001.000</td>\n",
       "      <td>ОБЩЕСТВО С ОГРАНИЧЕННОЙ ОТВЕТСТВЕННОСТЬЮ \"МОСНАБ\"</td>\n",
       "      <td>[{\"Id\":null,\"Quantity\":4.00000,\"Amount\":42656....</td>\n",
       "    </tr>\n",
       "    <tr>\n",
       "      <th>2</th>\n",
       "      <td>74-19</td>\n",
       "      <td>2019-06-13 15:34:06.630</td>\n",
       "      <td>2019-06-18 00:00:00.000</td>\n",
       "      <td>26,638.340</td>\n",
       "      <td>7727597777</td>\n",
       "      <td>772701001</td>\n",
       "      <td>ГОСУДАРСТВЕННОЕ БЮДЖЕТНОЕ УЧРЕЖДЕНИЕ ГОРОДА МО...</td>\n",
       "      <td>7724456672</td>\n",
       "      <td>772,401,001.000</td>\n",
       "      <td>ООО \"Жизнь офиса\"</td>\n",
       "      <td>[{\"Id\":null,\"Quantity\":1.00000,\"Amount\":26638....</td>\n",
       "    </tr>\n",
       "    <tr>\n",
       "      <th>3</th>\n",
       "      <td>И-1200/19</td>\n",
       "      <td>2019-06-11 15:07:29.147</td>\n",
       "      <td>2019-06-18 00:00:00.000</td>\n",
       "      <td>82,386.000</td>\n",
       "      <td>7714338609</td>\n",
       "      <td>771401001</td>\n",
       "      <td>ГОСУДАРСТВЕННОЕ КАЗЕННОЕ УЧРЕЖДЕНИЕ ГОРОДА МОС...</td>\n",
       "      <td>503224250310</td>\n",
       "      <td>NaN</td>\n",
       "      <td>Индивидуальный предприниматель Кручинина Екате...</td>\n",
       "      <td>[{\"Id\":1405814,\"Quantity\":120.00000,\"Amount\":8...</td>\n",
       "    </tr>\n",
       "    <tr>\n",
       "      <th>4</th>\n",
       "      <td>639-МЗ-44/19</td>\n",
       "      <td>2019-06-13 10:55:03.087</td>\n",
       "      <td>2019-06-18 00:00:00.000</td>\n",
       "      <td>28,362.000</td>\n",
       "      <td>7719047184</td>\n",
       "      <td>771901001</td>\n",
       "      <td>ГОСУДАРСТВЕННОЕ БЮДЖЕТНОЕ УЧРЕЖДЕНИЕ ЗДРАВООХР...</td>\n",
       "      <td>7706771569</td>\n",
       "      <td>772,701,001.000</td>\n",
       "      <td>ООО \"ПРИНСИПАЛ-БМ\"</td>\n",
       "      <td>[{\"Id\":null,\"Quantity\":300.00000,\"Amount\":2836...</td>\n",
       "    </tr>\n",
       "    <tr>\n",
       "      <th>5</th>\n",
       "      <td>06-19-142</td>\n",
       "      <td>2019-06-11 15:43:00.223</td>\n",
       "      <td>2019-06-18 00:00:00.000</td>\n",
       "      <td>31,044.000</td>\n",
       "      <td>7715446501</td>\n",
       "      <td>771501001</td>\n",
       "      <td>ГОСУДАРСТВЕННОЕ БЮДЖЕТНОЕ ОБЩЕОБРАЗОВАТЕЛЬНОЕ ...</td>\n",
       "      <td>7724310183</td>\n",
       "      <td>772,401,001.000</td>\n",
       "      <td>Общество с ограниченной ответственностью «ФУРАМА»</td>\n",
       "      <td>[{\"Id\":null,\"Quantity\":5.00000,\"Amount\":31044....</td>\n",
       "    </tr>\n",
       "    <tr>\n",
       "      <th>6</th>\n",
       "      <td>46-2019</td>\n",
       "      <td>2019-06-13 12:42:50.313</td>\n",
       "      <td>2019-06-18 00:00:00.000</td>\n",
       "      <td>4,046.900</td>\n",
       "      <td>7702078650</td>\n",
       "      <td>770201001</td>\n",
       "      <td>ГОСУДАРСТВЕННОЕ БЮДЖЕТНОЕ УЧРЕЖДЕНИЕ КУЛЬТУРЫ ...</td>\n",
       "      <td>772023045527</td>\n",
       "      <td>NaN</td>\n",
       "      <td>ИП Стадальникас Дмитрий Валерьевич</td>\n",
       "      <td>[{\"Id\":1430277,\"Quantity\":2.00000,\"Amount\":404...</td>\n",
       "    </tr>\n",
       "    <tr>\n",
       "      <th>7</th>\n",
       "      <td>275-1/19</td>\n",
       "      <td>2019-06-13 08:52:25.737</td>\n",
       "      <td>2019-06-18 00:00:00.000</td>\n",
       "      <td>51,291.680</td>\n",
       "      <td>7727656790</td>\n",
       "      <td>771401001</td>\n",
       "      <td>ГОСУДАРСТВЕННОЕ БЮДЖЕТНОЕ УЧРЕЖДЕНИЕ ГОРОДА МО...</td>\n",
       "      <td>772747520495</td>\n",
       "      <td>NaN</td>\n",
       "      <td>ИП Пивкин Даниил Владимирович</td>\n",
       "      <td>[{\"Id\":null,\"Quantity\":32.00000,\"Amount\":8831....</td>\n",
       "    </tr>\n",
       "    <tr>\n",
       "      <th>8</th>\n",
       "      <td>3131205</td>\n",
       "      <td>2019-06-11 16:04:28.093</td>\n",
       "      <td>2019-06-18 00:00:00.000</td>\n",
       "      <td>81,782.700</td>\n",
       "      <td>7714338609</td>\n",
       "      <td>771401001</td>\n",
       "      <td>ГОСУДАРСТВЕННОЕ КАЗЕННОЕ УЧРЕЖДЕНИЕ ГОРОДА МОС...</td>\n",
       "      <td>7709023402</td>\n",
       "      <td>770,901,001.000</td>\n",
       "      <td>ЗАО ФИРМА \"ХОПЕР\"</td>\n",
       "      <td>[{\"Id\":null,\"Quantity\":10.00000,\"Amount\":27175...</td>\n",
       "    </tr>\n",
       "    <tr>\n",
       "      <th>9</th>\n",
       "      <td>103/06-2019</td>\n",
       "      <td>2019-06-06 11:19:48.130</td>\n",
       "      <td>2019-06-18 00:00:00.000</td>\n",
       "      <td>47,151.480</td>\n",
       "      <td>7733126624</td>\n",
       "      <td>773301001</td>\n",
       "      <td>Государственное бюджетное общеобразовательное ...</td>\n",
       "      <td>7707769273</td>\n",
       "      <td>773,301,001.000</td>\n",
       "      <td>ООО \"ТЕХАЛЬЯНС\"</td>\n",
       "      <td>[{\"Id\":1419553,\"Quantity\":1.00000,\"Amount\":471...</td>\n",
       "    </tr>\n",
       "  </tbody>\n",
       "</table>\n",
       "</div>"
      ],
      "text/plain": [
       "         number                 date_kpp               date_concl      price  \\\n",
       "0   10/2019-СГЗ  2019-06-13 17:07:08.753  2019-06-18 00:00:00.000 21,970.000   \n",
       "1  642-МЗ-44/19  2019-06-13 10:46:31.197  2019-06-18 00:00:00.000 85,312.000   \n",
       "2         74-19  2019-06-13 15:34:06.630  2019-06-18 00:00:00.000 26,638.340   \n",
       "3     И-1200/19  2019-06-11 15:07:29.147  2019-06-18 00:00:00.000 82,386.000   \n",
       "4  639-МЗ-44/19  2019-06-13 10:55:03.087  2019-06-18 00:00:00.000 28,362.000   \n",
       "5     06-19-142  2019-06-11 15:43:00.223  2019-06-18 00:00:00.000 31,044.000   \n",
       "6       46-2019  2019-06-13 12:42:50.313  2019-06-18 00:00:00.000  4,046.900   \n",
       "7      275-1/19  2019-06-13 08:52:25.737  2019-06-18 00:00:00.000 51,291.680   \n",
       "8       3131205  2019-06-11 16:04:28.093  2019-06-18 00:00:00.000 81,782.700   \n",
       "9   103/06-2019  2019-06-06 11:19:48.130  2019-06-18 00:00:00.000 47,151.480   \n",
       "\n",
       "      inn_ord    kpp_ord                                           name_ord  \\\n",
       "0  7709043455  770901001  ГОСУДАРСТВЕННОЕ БЮДЖЕТНОЕ УЧРЕЖДЕНИЕ ДОПОЛНИТЕ...   \n",
       "1  7719047184  771901001  ГОСУДАРСТВЕННОЕ БЮДЖЕТНОЕ УЧРЕЖДЕНИЕ ЗДРАВООХР...   \n",
       "2  7727597777  772701001  ГОСУДАРСТВЕННОЕ БЮДЖЕТНОЕ УЧРЕЖДЕНИЕ ГОРОДА МО...   \n",
       "3  7714338609  771401001  ГОСУДАРСТВЕННОЕ КАЗЕННОЕ УЧРЕЖДЕНИЕ ГОРОДА МОС...   \n",
       "4  7719047184  771901001  ГОСУДАРСТВЕННОЕ БЮДЖЕТНОЕ УЧРЕЖДЕНИЕ ЗДРАВООХР...   \n",
       "5  7715446501  771501001  ГОСУДАРСТВЕННОЕ БЮДЖЕТНОЕ ОБЩЕОБРАЗОВАТЕЛЬНОЕ ...   \n",
       "6  7702078650  770201001  ГОСУДАРСТВЕННОЕ БЮДЖЕТНОЕ УЧРЕЖДЕНИЕ КУЛЬТУРЫ ...   \n",
       "7  7727656790  771401001  ГОСУДАРСТВЕННОЕ БЮДЖЕТНОЕ УЧРЕЖДЕНИЕ ГОРОДА МО...   \n",
       "8  7714338609  771401001  ГОСУДАРСТВЕННОЕ КАЗЕННОЕ УЧРЕЖДЕНИЕ ГОРОДА МОС...   \n",
       "9  7733126624  773301001  Государственное бюджетное общеобразовательное ...   \n",
       "\n",
       "       inn_cust        kpp_cust  \\\n",
       "0    5009062762 500,901,001.000   \n",
       "1    7725696613 772,501,001.000   \n",
       "2    7724456672 772,401,001.000   \n",
       "3  503224250310             NaN   \n",
       "4    7706771569 772,701,001.000   \n",
       "5    7724310183 772,401,001.000   \n",
       "6  772023045527             NaN   \n",
       "7  772747520495             NaN   \n",
       "8    7709023402 770,901,001.000   \n",
       "9    7707769273 773,301,001.000   \n",
       "\n",
       "                                           name_cust  \\\n",
       "0                                      ООО \"ОФИСМАГ\"   \n",
       "1  ОБЩЕСТВО С ОГРАНИЧЕННОЙ ОТВЕТСТВЕННОСТЬЮ \"МОСНАБ\"   \n",
       "2                                  ООО \"Жизнь офиса\"   \n",
       "3  Индивидуальный предприниматель Кручинина Екате...   \n",
       "4                                 ООО \"ПРИНСИПАЛ-БМ\"   \n",
       "5  Общество с ограниченной ответственностью «ФУРАМА»   \n",
       "6                 ИП Стадальникас Дмитрий Валерьевич   \n",
       "7                      ИП Пивкин Даниил Владимирович   \n",
       "8                                  ЗАО ФИРМА \"ХОПЕР\"   \n",
       "9                                    ООО \"ТЕХАЛЬЯНС\"   \n",
       "\n",
       "                                                 cte  \n",
       "0  [{\"Id\":1226040,\"Quantity\":100.00000,\"Amount\":2...  \n",
       "1  [{\"Id\":null,\"Quantity\":4.00000,\"Amount\":42656....  \n",
       "2  [{\"Id\":null,\"Quantity\":1.00000,\"Amount\":26638....  \n",
       "3  [{\"Id\":1405814,\"Quantity\":120.00000,\"Amount\":8...  \n",
       "4  [{\"Id\":null,\"Quantity\":300.00000,\"Amount\":2836...  \n",
       "5  [{\"Id\":null,\"Quantity\":5.00000,\"Amount\":31044....  \n",
       "6  [{\"Id\":1430277,\"Quantity\":2.00000,\"Amount\":404...  \n",
       "7  [{\"Id\":null,\"Quantity\":32.00000,\"Amount\":8831....  \n",
       "8  [{\"Id\":null,\"Quantity\":10.00000,\"Amount\":27175...  \n",
       "9  [{\"Id\":1419553,\"Quantity\":1.00000,\"Amount\":471...  "
      ]
     },
     "execution_count": 278,
     "metadata": {},
     "output_type": "execute_result"
    }
   ],
   "source": [
    "df.head(10)"
   ]
  },
  {
   "cell_type": "code",
   "execution_count": 279,
   "id": "b6e646b0",
   "metadata": {},
   "outputs": [
    {
     "data": {
      "text/html": [
       "<div>\n",
       "<style scoped>\n",
       "    .dataframe tbody tr th:only-of-type {\n",
       "        vertical-align: middle;\n",
       "    }\n",
       "\n",
       "    .dataframe tbody tr th {\n",
       "        vertical-align: top;\n",
       "    }\n",
       "\n",
       "    .dataframe thead th {\n",
       "        text-align: right;\n",
       "    }\n",
       "</style>\n",
       "<table border=\"1\" class=\"dataframe\">\n",
       "  <thead>\n",
       "    <tr style=\"text-align: right;\">\n",
       "      <th></th>\n",
       "      <th>price</th>\n",
       "      <th>inn_ord</th>\n",
       "      <th>kpp_ord</th>\n",
       "      <th>inn_cust</th>\n",
       "      <th>kpp_cust</th>\n",
       "    </tr>\n",
       "  </thead>\n",
       "  <tbody>\n",
       "    <tr>\n",
       "      <th>count</th>\n",
       "      <td>414,993.000</td>\n",
       "      <td>414,993.000</td>\n",
       "      <td>414,993.000</td>\n",
       "      <td>414,993.000</td>\n",
       "      <td>289,520.000</td>\n",
       "    </tr>\n",
       "    <tr>\n",
       "      <th>mean</th>\n",
       "      <td>114,219.862</td>\n",
       "      <td>7,655,416,395.010</td>\n",
       "      <td>768,780,260.985</td>\n",
       "      <td>191,344,325,774.262</td>\n",
       "      <td>710,291,694.174</td>\n",
       "    </tr>\n",
       "    <tr>\n",
       "      <th>std</th>\n",
       "      <td>212,634.359</td>\n",
       "      <td>566,882,761.070</td>\n",
       "      <td>30,413,010.277</td>\n",
       "      <td>300,270,405,720.956</td>\n",
       "      <td>126,857,437.809</td>\n",
       "    </tr>\n",
       "    <tr>\n",
       "      <th>min</th>\n",
       "      <td>0.010</td>\n",
       "      <td>5,002,001,584.000</td>\n",
       "      <td>500,201,001.000</td>\n",
       "      <td>105,061,297.000</td>\n",
       "      <td>10,501,001.000</td>\n",
       "    </tr>\n",
       "    <tr>\n",
       "      <th>25%</th>\n",
       "      <td>15,666.610</td>\n",
       "      <td>7,714,079,640.000</td>\n",
       "      <td>771,501,001.000</td>\n",
       "      <td>7,712,011,904.000</td>\n",
       "      <td>770,101,001.000</td>\n",
       "    </tr>\n",
       "    <tr>\n",
       "      <th>50%</th>\n",
       "      <td>48,689.190</td>\n",
       "      <td>7,721,809,746.000</td>\n",
       "      <td>772,201,001.000</td>\n",
       "      <td>7,727,560,110.000</td>\n",
       "      <td>771,801,001.000</td>\n",
       "    </tr>\n",
       "    <tr>\n",
       "      <th>75%</th>\n",
       "      <td>126,450.000</td>\n",
       "      <td>7,729,415,535.000</td>\n",
       "      <td>772,901,001.000</td>\n",
       "      <td>463,307,681,717.000</td>\n",
       "      <td>772,601,001.000</td>\n",
       "    </tr>\n",
       "    <tr>\n",
       "      <th>max</th>\n",
       "      <td>2,989,360.000</td>\n",
       "      <td>9,729,068,476.000</td>\n",
       "      <td>997,650,001.000</td>\n",
       "      <td>990,199,065,793.000</td>\n",
       "      <td>997,750,001.000</td>\n",
       "    </tr>\n",
       "  </tbody>\n",
       "</table>\n",
       "</div>"
      ],
      "text/plain": [
       "              price           inn_ord         kpp_ord            inn_cust  \\\n",
       "count   414,993.000       414,993.000     414,993.000         414,993.000   \n",
       "mean    114,219.862 7,655,416,395.010 768,780,260.985 191,344,325,774.262   \n",
       "std     212,634.359   566,882,761.070  30,413,010.277 300,270,405,720.956   \n",
       "min           0.010 5,002,001,584.000 500,201,001.000     105,061,297.000   \n",
       "25%      15,666.610 7,714,079,640.000 771,501,001.000   7,712,011,904.000   \n",
       "50%      48,689.190 7,721,809,746.000 772,201,001.000   7,727,560,110.000   \n",
       "75%     126,450.000 7,729,415,535.000 772,901,001.000 463,307,681,717.000   \n",
       "max   2,989,360.000 9,729,068,476.000 997,650,001.000 990,199,065,793.000   \n",
       "\n",
       "             kpp_cust  \n",
       "count     289,520.000  \n",
       "mean  710,291,694.174  \n",
       "std   126,857,437.809  \n",
       "min    10,501,001.000  \n",
       "25%   770,101,001.000  \n",
       "50%   771,801,001.000  \n",
       "75%   772,601,001.000  \n",
       "max   997,750,001.000  "
      ]
     },
     "execution_count": 279,
     "metadata": {},
     "output_type": "execute_result"
    }
   ],
   "source": [
    "df.describe()"
   ]
  },
  {
   "cell_type": "code",
   "execution_count": 280,
   "id": "e27c2402",
   "metadata": {},
   "outputs": [
    {
     "name": "stdout",
     "output_type": "stream",
     "text": [
      "total client: 2424\n",
      "total producter: 5307\n"
     ]
    }
   ],
   "source": [
    "print('total client:', df.inn_ord.nunique())\n",
    "print('total producter:', df_cte.code.nunique())"
   ]
  },
  {
   "cell_type": "code",
   "execution_count": 281,
   "id": "3d353c61",
   "metadata": {},
   "outputs": [
    {
     "data": {
      "text/html": [
       "<div>\n",
       "<style scoped>\n",
       "    .dataframe tbody tr th:only-of-type {\n",
       "        vertical-align: middle;\n",
       "    }\n",
       "\n",
       "    .dataframe tbody tr th {\n",
       "        vertical-align: top;\n",
       "    }\n",
       "\n",
       "    .dataframe thead th {\n",
       "        text-align: right;\n",
       "    }\n",
       "</style>\n",
       "<table border=\"1\" class=\"dataframe\">\n",
       "  <thead>\n",
       "    <tr style=\"text-align: right;\">\n",
       "      <th></th>\n",
       "      <th>id_cte</th>\n",
       "      <th>name_cte</th>\n",
       "      <th>category</th>\n",
       "      <th>code</th>\n",
       "      <th>characteristics</th>\n",
       "    </tr>\n",
       "  </thead>\n",
       "  <tbody>\n",
       "    <tr>\n",
       "      <th>0</th>\n",
       "      <td>1153097</td>\n",
       "      <td>мяч футбольный MIKASA REGATEADOR5-G</td>\n",
       "      <td>Мячи футбольные</td>\n",
       "      <td>01.08.01.13.01</td>\n",
       "      <td>[{\"Name\":\"Модель\",\"Id\":283795036,\"Value\":\"REGA...</td>\n",
       "    </tr>\n",
       "    <tr>\n",
       "      <th>1</th>\n",
       "      <td>1153130</td>\n",
       "      <td>мяч волейбольный Gala Pro-Line 10 FIVB</td>\n",
       "      <td>Мячи волейбольные</td>\n",
       "      <td>01.08.01.14.03.01</td>\n",
       "      <td>[{\"Name\":\"Марка\",\"Id\":284249992,\"Value\":\"Gala\"...</td>\n",
       "    </tr>\n",
       "    <tr>\n",
       "      <th>2</th>\n",
       "      <td>1153163</td>\n",
       "      <td>мяч волейбольный Mikasa MVA380K-OBL</td>\n",
       "      <td>Мячи волейбольные</td>\n",
       "      <td>01.08.01.14.03.01</td>\n",
       "      <td>[{\"Name\":\"Марка\",\"Id\":284249802,\"Value\":\"MIKAS...</td>\n",
       "    </tr>\n",
       "    <tr>\n",
       "      <th>3</th>\n",
       "      <td>1153174</td>\n",
       "      <td>мяч волейбольный Wilson Super Soft Play</td>\n",
       "      <td>Мячи волейбольные</td>\n",
       "      <td>01.08.01.14.03.01</td>\n",
       "      <td>[{\"Name\":\"Марка\",\"Id\":284246959,\"Value\":\"WILSO...</td>\n",
       "    </tr>\n",
       "    <tr>\n",
       "      <th>4</th>\n",
       "      <td>1159300</td>\n",
       "      <td>Gutrend комплект расходных материалов для FUN ...</td>\n",
       "      <td>Расходные материалы, комплектующие для прочего...</td>\n",
       "      <td>01.20.10.99</td>\n",
       "      <td>[{\"Name\":\"Тип\",\"Id\":284280400,\"Value\":\"Расходн...</td>\n",
       "    </tr>\n",
       "    <tr>\n",
       "      <th>5</th>\n",
       "      <td>1159303</td>\n",
       "      <td>Neolux FSM-05 набор фильтров для пылесоса Samsung</td>\n",
       "      <td>Фильтр для пылесоса</td>\n",
       "      <td>01.20.10.03</td>\n",
       "      <td>[{\"Name\":\"Тип\",\"Id\":284280428,\"Value\":\"Расходн...</td>\n",
       "    </tr>\n",
       "    <tr>\n",
       "      <th>6</th>\n",
       "      <td>1159344</td>\n",
       "      <td>Jura 62536 жидкость для чистки автокаппучинато...</td>\n",
       "      <td>Расходные материалы, комплектующие для прочего...</td>\n",
       "      <td>01.20.10.99</td>\n",
       "      <td>[{\"Name\":\"Тип\",\"Id\":284280734,\"Value\":\"Средств...</td>\n",
       "    </tr>\n",
       "    <tr>\n",
       "      <th>7</th>\n",
       "      <td>1159352</td>\n",
       "      <td>Karcher AD 3.200 1.629-662.0 промышленный пылесос</td>\n",
       "      <td>Пылесос</td>\n",
       "      <td>01.20.03.01</td>\n",
       "      <td>[{\"Name\":\"Тип\",\"Id\":284200061,\"Value\":\"Пылесос...</td>\n",
       "    </tr>\n",
       "    <tr>\n",
       "      <th>8</th>\n",
       "      <td>1159363</td>\n",
       "      <td>Vitek VT-1886(B) пылесос</td>\n",
       "      <td>Пылесос</td>\n",
       "      <td>01.20.03.01</td>\n",
       "      <td>[{\"Name\":\"Тип\",\"Id\":284200233,\"Value\":\"Пылесос...</td>\n",
       "    </tr>\n",
       "    <tr>\n",
       "      <th>9</th>\n",
       "      <td>1159379</td>\n",
       "      <td>Philips FC8471/01 PowerPro Compact безмешковый...</td>\n",
       "      <td>Пылесос</td>\n",
       "      <td>01.20.03.01</td>\n",
       "      <td>[{\"Name\":\"Тип\",\"Id\":284200483,\"Value\":\"Пылесос...</td>\n",
       "    </tr>\n",
       "  </tbody>\n",
       "</table>\n",
       "</div>"
      ],
      "text/plain": [
       "    id_cte                                           name_cte  \\\n",
       "0  1153097                мяч футбольный MIKASA REGATEADOR5-G   \n",
       "1  1153130             мяч волейбольный Gala Pro-Line 10 FIVB   \n",
       "2  1153163                мяч волейбольный Mikasa MVA380K-OBL   \n",
       "3  1153174            мяч волейбольный Wilson Super Soft Play   \n",
       "4  1159300  Gutrend комплект расходных материалов для FUN ...   \n",
       "5  1159303  Neolux FSM-05 набор фильтров для пылесоса Samsung   \n",
       "6  1159344  Jura 62536 жидкость для чистки автокаппучинато...   \n",
       "7  1159352  Karcher AD 3.200 1.629-662.0 промышленный пылесос   \n",
       "8  1159363                           Vitek VT-1886(B) пылесос   \n",
       "9  1159379  Philips FC8471/01 PowerPro Compact безмешковый...   \n",
       "\n",
       "                                            category               code  \\\n",
       "0                                    Мячи футбольные     01.08.01.13.01   \n",
       "1                                 Мячи волейбольные   01.08.01.14.03.01   \n",
       "2                                 Мячи волейбольные   01.08.01.14.03.01   \n",
       "3                                 Мячи волейбольные   01.08.01.14.03.01   \n",
       "4  Расходные материалы, комплектующие для прочего...        01.20.10.99   \n",
       "5                                Фильтр для пылесоса        01.20.10.03   \n",
       "6  Расходные материалы, комплектующие для прочего...        01.20.10.99   \n",
       "7                                            Пылесос        01.20.03.01   \n",
       "8                                            Пылесос        01.20.03.01   \n",
       "9                                            Пылесос        01.20.03.01   \n",
       "\n",
       "                                     characteristics  \n",
       "0  [{\"Name\":\"Модель\",\"Id\":283795036,\"Value\":\"REGA...  \n",
       "1  [{\"Name\":\"Марка\",\"Id\":284249992,\"Value\":\"Gala\"...  \n",
       "2  [{\"Name\":\"Марка\",\"Id\":284249802,\"Value\":\"MIKAS...  \n",
       "3  [{\"Name\":\"Марка\",\"Id\":284246959,\"Value\":\"WILSO...  \n",
       "4  [{\"Name\":\"Тип\",\"Id\":284280400,\"Value\":\"Расходн...  \n",
       "5  [{\"Name\":\"Тип\",\"Id\":284280428,\"Value\":\"Расходн...  \n",
       "6  [{\"Name\":\"Тип\",\"Id\":284280734,\"Value\":\"Средств...  \n",
       "7  [{\"Name\":\"Тип\",\"Id\":284200061,\"Value\":\"Пылесос...  \n",
       "8  [{\"Name\":\"Тип\",\"Id\":284200233,\"Value\":\"Пылесос...  \n",
       "9  [{\"Name\":\"Тип\",\"Id\":284200483,\"Value\":\"Пылесос...  "
      ]
     },
     "execution_count": 281,
     "metadata": {},
     "output_type": "execute_result"
    }
   ],
   "source": [
    "df_cte.head(10)"
   ]
  },
  {
   "cell_type": "code",
   "execution_count": 282,
   "id": "dd1b5635",
   "metadata": {},
   "outputs": [
    {
     "name": "stdout",
     "output_type": "stream",
     "text": [
      "total : 356575\n",
      "unique GKPZ code: 5307\n",
      "category amount: 6240\n"
     ]
    }
   ],
   "source": [
    "print('total :', df_cte.id_cte.nunique())\n",
    "print('unique GKPZ code:', df_cte.code.nunique())\n",
    "print('category amount:', df_cte.category.nunique())"
   ]
  },
  {
   "cell_type": "markdown",
   "id": "c64a8721",
   "metadata": {},
   "source": [
    "### Регионы поставщиков"
   ]
  },
  {
   "cell_type": "code",
   "execution_count": 308,
   "id": "1640df52",
   "metadata": {},
   "outputs": [
    {
     "data": {
      "text/html": [
       "<div>\n",
       "<style scoped>\n",
       "    .dataframe tbody tr th:only-of-type {\n",
       "        vertical-align: middle;\n",
       "    }\n",
       "\n",
       "    .dataframe tbody tr th {\n",
       "        vertical-align: top;\n",
       "    }\n",
       "\n",
       "    .dataframe thead th {\n",
       "        text-align: right;\n",
       "    }\n",
       "</style>\n",
       "<table border=\"1\" class=\"dataframe\">\n",
       "  <thead>\n",
       "    <tr style=\"text-align: right;\">\n",
       "      <th></th>\n",
       "      <th>region</th>\n",
       "      <th>sum</th>\n",
       "    </tr>\n",
       "  </thead>\n",
       "  <tbody>\n",
       "    <tr>\n",
       "      <th>72</th>\n",
       "      <td>77</td>\n",
       "      <td>2712970750</td>\n",
       "    </tr>\n",
       "    <tr>\n",
       "      <th>61</th>\n",
       "      <td>66</td>\n",
       "      <td>1138380774</td>\n",
       "    </tr>\n",
       "    <tr>\n",
       "      <th>0</th>\n",
       "      <td>0</td>\n",
       "      <td>1100173668</td>\n",
       "    </tr>\n",
       "    <tr>\n",
       "      <th>46</th>\n",
       "      <td>50</td>\n",
       "      <td>684950975</td>\n",
       "    </tr>\n",
       "    <tr>\n",
       "      <th>73</th>\n",
       "      <td>78</td>\n",
       "      <td>559843034</td>\n",
       "    </tr>\n",
       "    <tr>\n",
       "      <th>...</th>\n",
       "      <td>...</td>\n",
       "      <td>...</td>\n",
       "    </tr>\n",
       "    <tr>\n",
       "      <th>23</th>\n",
       "      <td>25</td>\n",
       "      <td>487729</td>\n",
       "    </tr>\n",
       "    <tr>\n",
       "      <th>9</th>\n",
       "      <td>9</td>\n",
       "      <td>465405</td>\n",
       "    </tr>\n",
       "    <tr>\n",
       "      <th>42</th>\n",
       "      <td>45</td>\n",
       "      <td>403932</td>\n",
       "    </tr>\n",
       "    <tr>\n",
       "      <th>4</th>\n",
       "      <td>4</td>\n",
       "      <td>267850</td>\n",
       "    </tr>\n",
       "    <tr>\n",
       "      <th>8</th>\n",
       "      <td>8</td>\n",
       "      <td>236716</td>\n",
       "    </tr>\n",
       "  </tbody>\n",
       "</table>\n",
       "<p>79 rows × 2 columns</p>\n",
       "</div>"
      ],
      "text/plain": [
       "    region         sum\n",
       "72      77  2712970750\n",
       "61      66  1138380774\n",
       "0        0  1100173668\n",
       "46      50   684950975\n",
       "73      78   559843034\n",
       "..     ...         ...\n",
       "23      25      487729\n",
       "9        9      465405\n",
       "42      45      403932\n",
       "4        4      267850\n",
       "8        8      236716\n",
       "\n",
       "[79 rows x 2 columns]"
      ]
     },
     "execution_count": 308,
     "metadata": {},
     "output_type": "execute_result"
    }
   ],
   "source": [
    "df['region_ord'] = (df.kpp_ord / 10000000).astype('int')\n",
    "df['kpp_cust'] = df.kpp_cust.fillna(0)\n",
    "df['region_cust'] = (df.kpp_cust / 10000000).astype('int')\n",
    "ord_reg = df.groupby(['region_cust'])['price'].agg('sum').astype('uint')\n",
    "df_ord = pd.DataFrame({'region':ord_reg.index, 'sum':ord_reg.values})\n",
    "df_ord.sort_values(by='sum', ascending=False)"
   ]
  },
  {
   "cell_type": "markdown",
   "id": "831cec67",
   "metadata": {},
   "source": [
    "### Объединенная таблица товаров заказа и cte"
   ]
  },
  {
   "cell_type": "code",
   "execution_count": 284,
   "id": "125c827a",
   "metadata": {},
   "outputs": [],
   "source": [
    "df_contr = df['cte'].explode()\n",
    "df_f = df[['number', 'date_concl', 'name_ord', 'inn_cust', 'name_cust']].join(pd.DataFrame(df_contr.tolist(), df_contr.index)\\\n",
    "                         .assign(cc=lambda x: x.groupby(level=0).cumcount()+1)\\\n",
    "                         .set_index('cc', append=True)\\\n",
    "                         .stack()\\\n",
    "                         .unstack(level=[-2,-1])\\\n",
    "                         .droplevel(0, axis=1), \n",
    "                       how='left')\n",
    "df_f.columns = ['number','date_concl', 'name_ord','inn_cust', 'name_cust', 'cte']"
   ]
  },
  {
   "cell_type": "code",
   "execution_count": 285,
   "id": "b2416563",
   "metadata": {},
   "outputs": [],
   "source": [
    "item = [1, 2, 3, 4, 5, 6, 7, 8, 9, 10]\n",
    "\n",
    "for i in item:\n",
    "    df_f['%s' %i] = df_f.cte.str.split('},{').str.get(i - 1)"
   ]
  },
  {
   "cell_type": "code",
   "execution_count": 286,
   "id": "3d4a002a",
   "metadata": {},
   "outputs": [],
   "source": [
    "df_f['id'] = df_f['1'].str.split(',').str.get(0).str.replace('\"Id\":', '')\n",
    "df_f['id'] = df_f['id'].str.strip('[{').str.replace('null', '0').astype('int')\n",
    "df_f['quantity'] = df_f['1'].str.split(',').str.get(1).str.replace('\"Quantity\":', '').astype('float')\n",
    "df_f['amount'] = df_f['1'].str.split(',').str.get(2).str.replace('\"Amount\":', '').str.strip('}]').astype('float')"
   ]
  },
  {
   "cell_type": "code",
   "execution_count": 287,
   "id": "c42a272c",
   "metadata": {},
   "outputs": [],
   "source": [
    "df_one = df_f\n",
    "df_one = df_one.drop(['cte', '1', '2', '3', '4', '5', '6', '7', '8', '9', '10'], axis=1)"
   ]
  },
  {
   "cell_type": "code",
   "execution_count": 288,
   "id": "5f21dbde",
   "metadata": {},
   "outputs": [],
   "source": [
    "df_one.to_csv('data/try.csv', index=False, header=False)"
   ]
  },
  {
   "cell_type": "code",
   "execution_count": 289,
   "id": "ba7ab867",
   "metadata": {},
   "outputs": [],
   "source": [
    "item = [2, 3, 4, 5, 6, 7, 8, 9, 10]\n",
    "\n",
    "for i in item:\n",
    "    df_f = df_f.drop(df_f[df_f['%s' %i].isnull()].index)\n",
    "    df_f['id'] = df_f['%s' %i].str.split(',').str.get(0).str.replace('\"Id\":', '')\n",
    "    df_f['id'] = df_f['id'].str.strip('[{').str.replace('null', '0').astype('int')\n",
    "    df_f['quantity'] = df_f['%s' %i].str.split(',').str.get(1).str.replace('\"Quantity\":', '').astype('float')\n",
    "    df_f['amount'] = df_f['%s' %i].str.split(',').str.get(2).str.replace('\"Amount\":', '').str.strip('}]').astype('float')\n",
    "                            \n",
    "    df_new = df_f\n",
    "    df_new = df_new.drop(['cte', '1', '2', '3', '4', '5', '6', '7', '8', '9', '10'], axis=1)\n",
    "    df_new = df_new.reset_index(drop=True)\n",
    "    df_new.to_csv('data/try.csv', mode='a', index=False, header=False)"
   ]
  },
  {
   "cell_type": "code",
   "execution_count": 290,
   "id": "a8966e37",
   "metadata": {},
   "outputs": [],
   "source": [
    "df_total = pd.read_csv('data/try.csv')\n",
    "df_total.columns = ['number','date_concl', 'name_ord','inn_cust', 'name_cust', 'id_cte', 'quantity', 'amount']"
   ]
  },
  {
   "cell_type": "code",
   "execution_count": 291,
   "id": "f4801e9f",
   "metadata": {},
   "outputs": [],
   "source": [
    "df_total = df_total.merge(df_cte[['id_cte','code']], on='id_cte', how='inner')"
   ]
  },
  {
   "cell_type": "code",
   "execution_count": 292,
   "id": "ab4e7910",
   "metadata": {},
   "outputs": [],
   "source": [
    "df_total = df_total.dropna()"
   ]
  },
  {
   "cell_type": "code",
   "execution_count": 293,
   "id": "3993ace4",
   "metadata": {},
   "outputs": [
    {
     "data": {
      "text/html": [
       "<div>\n",
       "<style scoped>\n",
       "    .dataframe tbody tr th:only-of-type {\n",
       "        vertical-align: middle;\n",
       "    }\n",
       "\n",
       "    .dataframe tbody tr th {\n",
       "        vertical-align: top;\n",
       "    }\n",
       "\n",
       "    .dataframe thead th {\n",
       "        text-align: right;\n",
       "    }\n",
       "</style>\n",
       "<table border=\"1\" class=\"dataframe\">\n",
       "  <thead>\n",
       "    <tr style=\"text-align: right;\">\n",
       "      <th></th>\n",
       "      <th>number</th>\n",
       "      <th>date_concl</th>\n",
       "      <th>name_ord</th>\n",
       "      <th>inn_cust</th>\n",
       "      <th>name_cust</th>\n",
       "      <th>id_cte</th>\n",
       "      <th>quantity</th>\n",
       "      <th>amount</th>\n",
       "      <th>code</th>\n",
       "    </tr>\n",
       "  </thead>\n",
       "  <tbody>\n",
       "    <tr>\n",
       "      <th>0</th>\n",
       "      <td>И-1200/19</td>\n",
       "      <td>2019-06-18 00:00:00.000</td>\n",
       "      <td>ГОСУДАРСТВЕННОЕ КАЗЕННОЕ УЧРЕЖДЕНИЕ ГОРОДА МОС...</td>\n",
       "      <td>503224250310</td>\n",
       "      <td>Индивидуальный предприниматель Кручинина Екате...</td>\n",
       "      <td>1405814</td>\n",
       "      <td>120.000</td>\n",
       "      <td>82,386.000</td>\n",
       "      <td>01.02.10.42.05.01</td>\n",
       "    </tr>\n",
       "    <tr>\n",
       "      <th>1</th>\n",
       "      <td>46-2019</td>\n",
       "      <td>2019-06-18 00:00:00.000</td>\n",
       "      <td>ГОСУДАРСТВЕННОЕ БЮДЖЕТНОЕ УЧРЕЖДЕНИЕ КУЛЬТУРЫ ...</td>\n",
       "      <td>772023045527</td>\n",
       "      <td>ИП Стадальникас Дмитрий Валерьевич</td>\n",
       "      <td>1430277</td>\n",
       "      <td>2.000</td>\n",
       "      <td>4,046.900</td>\n",
       "      <td>01.16.17.02</td>\n",
       "    </tr>\n",
       "    <tr>\n",
       "      <th>2</th>\n",
       "      <td>101-20</td>\n",
       "      <td>2020-04-10 00:00:00.000</td>\n",
       "      <td>Государственное бюджетное образовательное учре...</td>\n",
       "      <td>773506776460</td>\n",
       "      <td>Индивидуальный предприниматель Горин Василий Н...</td>\n",
       "      <td>1430277</td>\n",
       "      <td>4.000</td>\n",
       "      <td>9,210.480</td>\n",
       "      <td>01.16.17.02</td>\n",
       "    </tr>\n",
       "    <tr>\n",
       "      <th>3</th>\n",
       "      <td>164-ШМК-2019</td>\n",
       "      <td>2019-11-22 00:00:00.000</td>\n",
       "      <td>ГОСУДАРСТВЕННОЕ БЮДЖЕТНОЕ ОБЩЕОБРАЗОВАТЕЛЬНОЕ ...</td>\n",
       "      <td>772023045527</td>\n",
       "      <td>ИП Стадальникас Дмитрий Валерьевич</td>\n",
       "      <td>1430277</td>\n",
       "      <td>10.000</td>\n",
       "      <td>24,273.600</td>\n",
       "      <td>01.16.17.02</td>\n",
       "    </tr>\n",
       "    <tr>\n",
       "      <th>4</th>\n",
       "      <td>304-МА-2019</td>\n",
       "      <td>2019-12-03 00:00:00.000</td>\n",
       "      <td>Государственное бюджетное общеобразовательное ...</td>\n",
       "      <td>772023045527</td>\n",
       "      <td>ИП Стадальникас Дмитрий Валерьевич</td>\n",
       "      <td>1430277</td>\n",
       "      <td>11.000</td>\n",
       "      <td>20,930.030</td>\n",
       "      <td>01.16.17.02</td>\n",
       "    </tr>\n",
       "    <tr>\n",
       "      <th>5</th>\n",
       "      <td>22/20</td>\n",
       "      <td>2020-02-12 00:00:00.000</td>\n",
       "      <td>Государственное казенное учреждение дополнител...</td>\n",
       "      <td>773506776460</td>\n",
       "      <td>Индивидуальный предприниматель Горин Василий Н...</td>\n",
       "      <td>1430277</td>\n",
       "      <td>3.000</td>\n",
       "      <td>4,630.890</td>\n",
       "      <td>01.16.17.02</td>\n",
       "    </tr>\n",
       "    <tr>\n",
       "      <th>6</th>\n",
       "      <td>103/06-2019</td>\n",
       "      <td>2019-06-18 00:00:00.000</td>\n",
       "      <td>Государственное бюджетное общеобразовательное ...</td>\n",
       "      <td>7707769273</td>\n",
       "      <td>ООО \"ТЕХАЛЬЯНС\"</td>\n",
       "      <td>1419553</td>\n",
       "      <td>1.000</td>\n",
       "      <td>47,151.480</td>\n",
       "      <td>02.06.01.02.04</td>\n",
       "    </tr>\n",
       "    <tr>\n",
       "      <th>7</th>\n",
       "      <td>19-2630333</td>\n",
       "      <td>2019-06-18 00:00:00.000</td>\n",
       "      <td>ГОСУДАРСТВЕННОЕ БЮДЖЕТНОЕ УЧРЕЖДЕНИЕ ЗДРАВООХР...</td>\n",
       "      <td>5009062762</td>\n",
       "      <td>ООО \"ОФИСМАГ\"</td>\n",
       "      <td>1431078</td>\n",
       "      <td>20.000</td>\n",
       "      <td>29,353.000</td>\n",
       "      <td>01.20.11.07</td>\n",
       "    </tr>\n",
       "    <tr>\n",
       "      <th>8</th>\n",
       "      <td>20-3569393</td>\n",
       "      <td>2020-06-25 00:00:00.000</td>\n",
       "      <td>ГОСУДАРСТВЕННОЕ БЮДЖЕТНОЕ УЧРЕЖДЕНИЕ ЗДРАВООХР...</td>\n",
       "      <td>7743622389</td>\n",
       "      <td>ООО \"ОРИОН-ТРЕЙД\"</td>\n",
       "      <td>1431078</td>\n",
       "      <td>4.000</td>\n",
       "      <td>6,447.600</td>\n",
       "      <td>01.20.11.07</td>\n",
       "    </tr>\n",
       "    <tr>\n",
       "      <th>9</th>\n",
       "      <td>1601ма-19-51</td>\n",
       "      <td>2019-06-18 00:00:00.000</td>\n",
       "      <td>Государственное бюджетное общеобразовательное ...</td>\n",
       "      <td>774319020570</td>\n",
       "      <td>ИП Савин Иван Борисович</td>\n",
       "      <td>1362397</td>\n",
       "      <td>1.000</td>\n",
       "      <td>395,999.000</td>\n",
       "      <td>03.07.01.01.02</td>\n",
       "    </tr>\n",
       "  </tbody>\n",
       "</table>\n",
       "</div>"
      ],
      "text/plain": [
       "         number               date_concl  \\\n",
       "0     И-1200/19  2019-06-18 00:00:00.000   \n",
       "1       46-2019  2019-06-18 00:00:00.000   \n",
       "2        101-20  2020-04-10 00:00:00.000   \n",
       "3  164-ШМК-2019  2019-11-22 00:00:00.000   \n",
       "4   304-МА-2019  2019-12-03 00:00:00.000   \n",
       "5         22/20  2020-02-12 00:00:00.000   \n",
       "6   103/06-2019  2019-06-18 00:00:00.000   \n",
       "7    19-2630333  2019-06-18 00:00:00.000   \n",
       "8    20-3569393  2020-06-25 00:00:00.000   \n",
       "9  1601ма-19-51  2019-06-18 00:00:00.000   \n",
       "\n",
       "                                            name_ord      inn_cust  \\\n",
       "0  ГОСУДАРСТВЕННОЕ КАЗЕННОЕ УЧРЕЖДЕНИЕ ГОРОДА МОС...  503224250310   \n",
       "1  ГОСУДАРСТВЕННОЕ БЮДЖЕТНОЕ УЧРЕЖДЕНИЕ КУЛЬТУРЫ ...  772023045527   \n",
       "2  Государственное бюджетное образовательное учре...  773506776460   \n",
       "3  ГОСУДАРСТВЕННОЕ БЮДЖЕТНОЕ ОБЩЕОБРАЗОВАТЕЛЬНОЕ ...  772023045527   \n",
       "4  Государственное бюджетное общеобразовательное ...  772023045527   \n",
       "5  Государственное казенное учреждение дополнител...  773506776460   \n",
       "6  Государственное бюджетное общеобразовательное ...    7707769273   \n",
       "7  ГОСУДАРСТВЕННОЕ БЮДЖЕТНОЕ УЧРЕЖДЕНИЕ ЗДРАВООХР...    5009062762   \n",
       "8  ГОСУДАРСТВЕННОЕ БЮДЖЕТНОЕ УЧРЕЖДЕНИЕ ЗДРАВООХР...    7743622389   \n",
       "9  Государственное бюджетное общеобразовательное ...  774319020570   \n",
       "\n",
       "                                           name_cust   id_cte  quantity  \\\n",
       "0  Индивидуальный предприниматель Кручинина Екате...  1405814   120.000   \n",
       "1                 ИП Стадальникас Дмитрий Валерьевич  1430277     2.000   \n",
       "2  Индивидуальный предприниматель Горин Василий Н...  1430277     4.000   \n",
       "3                 ИП Стадальникас Дмитрий Валерьевич  1430277    10.000   \n",
       "4                 ИП Стадальникас Дмитрий Валерьевич  1430277    11.000   \n",
       "5  Индивидуальный предприниматель Горин Василий Н...  1430277     3.000   \n",
       "6                                    ООО \"ТЕХАЛЬЯНС\"  1419553     1.000   \n",
       "7                                      ООО \"ОФИСМАГ\"  1431078    20.000   \n",
       "8                                  ООО \"ОРИОН-ТРЕЙД\"  1431078     4.000   \n",
       "9                            ИП Савин Иван Борисович  1362397     1.000   \n",
       "\n",
       "       amount               code  \n",
       "0  82,386.000  01.02.10.42.05.01  \n",
       "1   4,046.900        01.16.17.02  \n",
       "2   9,210.480        01.16.17.02  \n",
       "3  24,273.600        01.16.17.02  \n",
       "4  20,930.030        01.16.17.02  \n",
       "5   4,630.890        01.16.17.02  \n",
       "6  47,151.480     02.06.01.02.04  \n",
       "7  29,353.000        01.20.11.07  \n",
       "8   6,447.600        01.20.11.07  \n",
       "9 395,999.000     03.07.01.01.02  "
      ]
     },
     "execution_count": 293,
     "metadata": {},
     "output_type": "execute_result"
    }
   ],
   "source": [
    "df_total.head(10)"
   ]
  },
  {
   "cell_type": "markdown",
   "id": "baea4d4a",
   "metadata": {},
   "source": [
    "### Выборка данных для представления"
   ]
  },
  {
   "cell_type": "markdown",
   "id": "50d9d2b4",
   "metadata": {},
   "source": [
    "#### Крупнейшие поставщики по категориям 01.01, 01.11, 01.20 (случайный выбор)"
   ]
  },
  {
   "cell_type": "code",
   "execution_count": 294,
   "id": "4621dc18",
   "metadata": {},
   "outputs": [
    {
     "data": {
      "text/plain": [
       "number         object\n",
       "date_concl     object\n",
       "name_ord       object\n",
       "inn_cust        int64\n",
       "name_cust      object\n",
       "id_cte          int64\n",
       "quantity      float64\n",
       "amount        float64\n",
       "code           object\n",
       "dtype: object"
      ]
     },
     "execution_count": 294,
     "metadata": {},
     "output_type": "execute_result"
    }
   ],
   "source": [
    "df_total.dtypes"
   ]
  },
  {
   "cell_type": "code",
   "execution_count": 295,
   "id": "8f623de8",
   "metadata": {},
   "outputs": [
    {
     "data": {
      "text/plain": [
       "name_cust\n",
       "ООО \"ОФИСМАГ\"                                           68,013,689.740\n",
       "Общество с ограниченной ответственностью \"ТК \"СЕРВИС\"   62,434,734.890\n",
       "ООО \"ЦТО\"                                               58,922,609.780\n",
       "ИП Анучин Александр Анатольевич                         50,562,728.430\n",
       "Общество с ограниченной ответственностью \"АПР\"          42,293,632.060\n",
       "Name: amount, dtype: float64"
      ]
     },
     "execution_count": 295,
     "metadata": {},
     "output_type": "execute_result"
    }
   ],
   "source": [
    "df_tech = df_total[df_total.code.str.contains(r'^01.20')]\n",
    "df_1 = df_tech.groupby(['name_cust']).amount.sum()\n",
    "df_1.sort_values(ascending=False).head(5)"
   ]
  },
  {
   "cell_type": "code",
   "execution_count": 296,
   "id": "3a8a268a",
   "metadata": {},
   "outputs": [
    {
     "data": {
      "text/plain": [
       "name_cust\n",
       "ООО \"Большая перемена\"                                   25,173,689.350\n",
       "ОБЩЕСТВО С ОГРАНИЧЕННОЙ ОТВЕТСТВЕННОСТЬЮ \"ГРАНАТ\"        21,447,091.190\n",
       "ООО \"ПРОТСНАБ\"                                           14,270,971.060\n",
       "Общество с Ограниченной Ответственностью \"БИЗНЕС-ТОРГ\"   12,743,251.220\n",
       "Общество с ограниченной ответственностью \"ЭПСИЛОН\"       12,529,737.570\n",
       "Name: amount, dtype: float64"
      ]
     },
     "execution_count": 296,
     "metadata": {},
     "output_type": "execute_result"
    }
   ],
   "source": [
    "df_food = df_total[df_total.code.str.contains(r'^01.01')]\n",
    "df_1 = df_food.groupby('name_cust').amount.sum()\n",
    "df_1.columns = ['inn', 'sum']\n",
    "df_1.sort_values(ascending=False).head(5)"
   ]
  },
  {
   "cell_type": "code",
   "execution_count": 297,
   "id": "29cdc977",
   "metadata": {},
   "outputs": [
    {
     "data": {
      "text/plain": [
       "name_cust\n",
       "ООО \"СТРОЙПАРТНЁР\"                    1,014,321,827.180\n",
       "ООО \"ВЫСОТА\"                            107,265,307.370\n",
       "ООО \"АЛЬЯНС\"                            101,835,738.550\n",
       "ИП Серебряков Дмитрий Александрович      95,719,944.890\n",
       "ООО \"НПО \"ВОЛХ\"                          92,393,871.400\n",
       "Name: amount, dtype: float64"
      ]
     },
     "execution_count": 297,
     "metadata": {},
     "output_type": "execute_result"
    }
   ],
   "source": [
    "df_materials = df_total[df_total.code.str.contains(r'^01.11')]\n",
    "df_1 = df_materials.groupby('name_cust').amount.sum()\n",
    "df_1.columns = ['inn', 'sum']\n",
    "df_1.sort_values(ascending=False).head(5)"
   ]
  },
  {
   "cell_type": "markdown",
   "id": "5d84e467",
   "metadata": {},
   "source": [
    "#### Крупнейшие заказчики по трем категориям"
   ]
  },
  {
   "cell_type": "code",
   "execution_count": 298,
   "id": "37f77c2b",
   "metadata": {},
   "outputs": [
    {
     "data": {
      "text/plain": [
       "name_ord\n",
       "ГУП \"МЕДИЦИНСКИЙ ЦЕНТР\"                                                                                                                                     55,042,650.780\n",
       "ГОСУДАРСТВЕННОЕ БЮДЖЕТНОЕ УЧРЕЖДЕНИЕ ЗДРАВООХРАНЕНИЯ ГОРОДА МОСКВЫ «ГОРОДСКАЯ КЛИНИЧЕСКАЯ БОЛЬНИЦА № 51 ДЕПАРТАМЕНТА ЗДРАВООХРАНЕНИЯ ГОРОДА МОСКВЫ»         25,136,959.100\n",
       "Государственное бюджетное учреждение здравоохранения города Москвы «Туберкулезная больница имени А.Е.Рабухина Департамента здравоохранения города Москвы»   18,171,928.980\n",
       "Государственное бюджетное профессиональное образовательное учреждение города Москвы «Колледж сферы услуг № 10»                                              17,524,545.690\n",
       "ГОСУДАРСТВЕННОЕ БЮДЖЕТНОЕ УЧРЕЖДЕНИЕ ГОРОДА МОСКВЫ «АВТОМОБИЛЬНЫЕ ДОРОГИ»                                                                                   11,219,450.380\n",
       "Name: amount, dtype: float64"
      ]
     },
     "execution_count": 298,
     "metadata": {},
     "output_type": "execute_result"
    }
   ],
   "source": [
    "df_food = df_total[df_total.code.str.contains(r'^01.01')]\n",
    "df_1 = df_food.groupby('name_ord').amount.sum()\n",
    "df_1.columns = ['inn', 'sum']\n",
    "df_1.sort_values(ascending=False).head(5)"
   ]
  },
  {
   "cell_type": "code",
   "execution_count": 299,
   "id": "1ddc446b",
   "metadata": {},
   "outputs": [
    {
     "data": {
      "text/plain": [
       "name_ord\n",
       "Акционерное общество \"Мосотделстрой № 1\"                                                                            2,680,670,365.860\n",
       "ОБЩЕСТВО С ОГРАНИЧЕННОЙ ОТВЕТСТВЕННОСТЬЮ \"ОРГАНИЗАТОР\"                                                                542,452,125.700\n",
       "ГОСУДАРСТВЕННОЕ УНИТАРНОЕ ПРЕДПРИЯТИЕ ГОРОДА МОСКВЫ ПО ЭКСПЛУАТАЦИИ МОСКОВСКИХ ВОДООТВОДЯЩИХ СИСТЕМ \"МОСВОДОСТОК\"     214,383,986.120\n",
       "Акционерное общество «Управление развития строительных технологий»                                                    137,242,222.770\n",
       "ГОСУДАРСТВЕННОЕ БЮДЖЕТНОЕ УЧРЕЖДЕНИЕ ГОРОДА МОСКВЫ «ЖИЛИЩНИК ЗЕЛЕНОГРАДСКОГО АДМИНИСТРАТИВНОГО ОКРУГА»                 86,397,743.600\n",
       "Name: amount, dtype: float64"
      ]
     },
     "execution_count": 299,
     "metadata": {},
     "output_type": "execute_result"
    }
   ],
   "source": [
    "df_materials = df_total[df_total.code.str.contains(r'^01.11')]\n",
    "df_1 = df_materials.groupby('name_ord').amount.sum()\n",
    "df_1.columns = ['inn', 'sum']\n",
    "df_1.sort_values(ascending=False).head(5)"
   ]
  },
  {
   "cell_type": "code",
   "execution_count": 300,
   "id": "63e3268d",
   "metadata": {},
   "outputs": [
    {
     "data": {
      "text/plain": [
       "name_ord\n",
       "Государственное бюджетное учреждение здравоохранения города Москвы «Центр лекарственного обеспечения Департамента здравоохранения города Москвы»   16,172,058.450\n",
       "Акционерное общество «Управление развития строительных технологий»                                                                                 15,445,396.480\n",
       "ГОСУДАРСТВЕННОЕ БЮДЖЕТНОЕ ОБЩЕОБРАЗОВАТЕЛЬНОЕ УЧРЕЖДЕНИЕ ГОРОДА МОСКВЫ «ШКОЛА № 1748 «ВЕРТИКАЛЬ»                                                   14,185,300.880\n",
       "Государственное бюджетное профессиональное образовательное учреждение города Москвы «Московский образовательный комплекс ЗАПАД»                    12,860,560.130\n",
       "Государственное бюджетное общеобразовательное учреждение города Москвы «Курчатовская школа»                                                        12,798,104.730\n",
       "Name: amount, dtype: float64"
      ]
     },
     "execution_count": 300,
     "metadata": {},
     "output_type": "execute_result"
    }
   ],
   "source": [
    "df_tech = df_total[df_total.code.str.contains(r'^01.20')]\n",
    "df_1 = df_tech.groupby(['name_ord']).amount.sum()\n",
    "df_1.sort_values(ascending=False).head(5)"
   ]
  },
  {
   "cell_type": "markdown",
   "id": "417662dd",
   "metadata": {},
   "source": [
    "#### Работа с датой для анализа закупок"
   ]
  },
  {
   "cell_type": "code",
   "execution_count": 301,
   "id": "605433e7",
   "metadata": {},
   "outputs": [
    {
     "name": "stderr",
     "output_type": "stream",
     "text": [
      "C:\\Users\\Anna\\AppData\\Local\\Temp\\ipykernel_24472\\2876585529.py:1: SettingWithCopyWarning: \n",
      "A value is trying to be set on a copy of a slice from a DataFrame.\n",
      "Try using .loc[row_indexer,col_indexer] = value instead\n",
      "\n",
      "See the caveats in the documentation: https://pandas.pydata.org/pandas-docs/stable/user_guide/indexing.html#returning-a-view-versus-a-copy\n",
      "  df_tech['date_concl'] = df_tech['date_concl'].astype('datetime64[ns]')\n"
     ]
    }
   ],
   "source": [
    "df_tech['date_concl'] = df_tech['date_concl'].astype('datetime64[ns]')"
   ]
  },
  {
   "cell_type": "code",
   "execution_count": 302,
   "id": "1bebc127",
   "metadata": {},
   "outputs": [
    {
     "name": "stderr",
     "output_type": "stream",
     "text": [
      "c:\\python38\\lib\\site-packages\\pandas\\core\\arraylike.py:56: UserWarning: Parsing '31.12.2020' in DD/MM/YYYY format. Provide format or specify infer_datetime_format=True for consistent parsing.\n",
      "  return self._cmp_method(other, operator.gt)\n"
     ]
    }
   ],
   "source": [
    "df_tech = df_tech[df_tech.date_concl > '31.12.2020']"
   ]
  },
  {
   "cell_type": "markdown",
   "id": "c0da4d66",
   "metadata": {},
   "source": [
    "#### График сезонности категории 01.11"
   ]
  },
  {
   "cell_type": "code",
   "execution_count": 303,
   "id": "fe2bd778",
   "metadata": {},
   "outputs": [
    {
     "data": {
      "image/png": "[encoded data removed]",
      "text/plain": [
       "<Figure size 432x288 with 1 Axes>"
      ]
     },
     "metadata": {
      "needs_background": "light"
     },
     "output_type": "display_data"
    }
   ],
   "source": [
    "df_data = df_tech.groupby(pd.Grouper(key='date_concl', axis=0, \n",
    "                      freq='M')).amount.sum().plot()"
   ]
  },
  {
   "cell_type": "code",
   "execution_count": 304,
   "id": "82211864",
   "metadata": {},
   "outputs": [
    {
     "name": "stderr",
     "output_type": "stream",
     "text": [
      "C:\\Users\\Anna\\AppData\\Local\\Temp\\ipykernel_24472\\3670536026.py:1: SettingWithCopyWarning: \n",
      "A value is trying to be set on a copy of a slice from a DataFrame.\n",
      "Try using .loc[row_indexer,col_indexer] = value instead\n",
      "\n",
      "See the caveats in the documentation: https://pandas.pydata.org/pandas-docs/stable/user_guide/indexing.html#returning-a-view-versus-a-copy\n",
      "  df_food['date_concl'] = df_food['date_concl'].astype('datetime64[ns]')\n",
      "c:\\python38\\lib\\site-packages\\pandas\\core\\arraylike.py:56: UserWarning: Parsing '31.12.2020' in DD/MM/YYYY format. Provide format or specify infer_datetime_format=True for consistent parsing.\n",
      "  return self._cmp_method(other, operator.gt)\n"
     ]
    },
    {
     "data": {
      "image/png": "[encoded data removed]",
      "text/plain": [
       "<Figure size 432x288 with 1 Axes>"
      ]
     },
     "metadata": {
      "needs_background": "light"
     },
     "output_type": "display_data"
    }
   ],
   "source": [
    "df_food['date_concl'] = df_food['date_concl'].astype('datetime64[ns]')\n",
    "df_food = df_food[df_food.date_concl > '31.12.2020']\n",
    "df_data = df_food.groupby(pd.Grouper(key='date_concl', axis=0, \n",
    "                      freq='M')).amount.sum().plot()"
   ]
  },
  {
   "cell_type": "code",
   "execution_count": 305,
   "id": "7312ed5d",
   "metadata": {},
   "outputs": [
    {
     "name": "stderr",
     "output_type": "stream",
     "text": [
      "C:\\Users\\Anna\\AppData\\Local\\Temp\\ipykernel_24472\\42225010.py:1: SettingWithCopyWarning: \n",
      "A value is trying to be set on a copy of a slice from a DataFrame.\n",
      "Try using .loc[row_indexer,col_indexer] = value instead\n",
      "\n",
      "See the caveats in the documentation: https://pandas.pydata.org/pandas-docs/stable/user_guide/indexing.html#returning-a-view-versus-a-copy\n",
      "  df_materials['date_concl'] = df_materials['date_concl'].astype('datetime64[ns]')\n",
      "c:\\python38\\lib\\site-packages\\pandas\\core\\arraylike.py:56: UserWarning: Parsing '31.12.2020' in DD/MM/YYYY format. Provide format or specify infer_datetime_format=True for consistent parsing.\n",
      "  return self._cmp_method(other, operator.gt)\n"
     ]
    },
    {
     "data": {
      "image/png": "[encoded data removed]",
      "text/plain": [
       "<Figure size 432x288 with 1 Axes>"
      ]
     },
     "metadata": {
      "needs_background": "light"
     },
     "output_type": "display_data"
    }
   ],
   "source": [
    "df_materials['date_concl'] = df_materials['date_concl'].astype('datetime64[ns]')\n",
    "df_materials = df_materials[df_materials.date_concl > '31.12.2020']\n",
    "df_data = df_materials.groupby(pd.Grouper(key='date_concl', axis=0, \n",
    "                      freq='M')).amount.sum().plot()"
   ]
  }
 ],
 "metadata": {
  "kernelspec": {
   "display_name": "Python 3.9.7 ('base')",
   "language": "python",
   "name": "python3"
  },
  "language_info": {
   "codemirror_mode": {
    "name": "ipython",
    "version": 3
   },
   "file_extension": ".py",
   "mimetype": "text/x-python",
   "name": "python",
   "nbconvert_exporter": "python",
   "pygments_lexer": "ipython3",
   "version": "3.9.7"
  },
  "vscode": {
   "interpreter": {
    "hash": "1077a7622c94b69f50cf5c06492105ce5624ef58a3c8148028a6737528b07b85"
   }
  }
 },
 "nbformat": 4,
 "nbformat_minor": 5
}
